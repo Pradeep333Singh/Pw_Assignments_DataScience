{
 "cells": [
  {
   "cell_type": "code",
   "execution_count": 1,
   "id": "be156438-819b-4f32-ad7b-90e5fc0b136b",
   "metadata": {},
   "outputs": [],
   "source": [
    "#Program to check if a number is positive, negative or zero"
   ]
  },
  {
   "cell_type": "code",
   "execution_count": 7,
   "id": "3d6470d8-0f7b-4095-ad6d-c88d0f670171",
   "metadata": {},
   "outputs": [
    {
     "name": "stdin",
     "output_type": "stream",
     "text": [
      "Enter a number:  0\n"
     ]
    }
   ],
   "source": [
    "#Take input from user\n",
    "num = int(input(\"Enter a number: \"))"
   ]
  },
  {
   "cell_type": "code",
   "execution_count": 8,
   "id": "797666f2-a82c-4f3a-8acb-06960fbd019d",
   "metadata": {},
   "outputs": [
    {
     "name": "stdout",
     "output_type": "stream",
     "text": [
      "0 is zero\n"
     ]
    }
   ],
   "source": [
    "#conditional statement to check if number is positive, negative or zero\n",
    "if (num > 0):\n",
    "    print(\"{:d} is positive\".format(num))\n",
    "elif (num < 0):\n",
    "    print(\"{:d} is negative\".format(num))\n",
    "else: print(\"{:d} is zero\".format(num))"
   ]
  },
  {
   "cell_type": "code",
   "execution_count": null,
   "id": "c26434c3-7cf2-4517-ace6-a58a77942ecb",
   "metadata": {},
   "outputs": [],
   "source": []
  }
 ],
 "metadata": {
  "kernelspec": {
   "display_name": "Python 3 (ipykernel)",
   "language": "python",
   "name": "python3"
  },
  "language_info": {
   "codemirror_mode": {
    "name": "ipython",
    "version": 3
   },
   "file_extension": ".py",
   "mimetype": "text/x-python",
   "name": "python",
   "nbconvert_exporter": "python",
   "pygments_lexer": "ipython3",
   "version": "3.12.5"
  }
 },
 "nbformat": 4,
 "nbformat_minor": 5
}
