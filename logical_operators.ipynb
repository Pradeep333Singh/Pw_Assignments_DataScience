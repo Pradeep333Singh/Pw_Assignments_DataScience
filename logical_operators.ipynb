{
 "cells": [
  {
   "cell_type": "code",
   "execution_count": 2,
   "id": "fd57f7ab-2ad4-41e0-947d-736baa287d14",
   "metadata": {},
   "outputs": [],
   "source": [
    "#Program to demonstrate the use of Logical opearators"
   ]
  },
  {
   "cell_type": "code",
   "execution_count": null,
   "id": "de275c73-34b4-4b90-885c-ec171cdf0372",
   "metadata": {},
   "outputs": [],
   "source": [
    "#declare two varibales and ititialise them 1 and 0\n",
    "x = 1\n",
    "y = 0"
   ]
  },
  {
   "cell_type": "code",
   "execution_count": 3,
   "id": "ce0b296c-8134-4386-9f5d-d90646b5fd9e",
   "metadata": {},
   "outputs": [
    {
     "name": "stdout",
     "output_type": "stream",
     "text": [
      "X and Y: 0\n"
     ]
    }
   ],
   "source": [
    "#And operator\n",
    "print(\"X and Y:\", x and y)"
   ]
  },
  {
   "cell_type": "code",
   "execution_count": 4,
   "id": "ca84a214-39ff-45d4-bdef-73e996c51331",
   "metadata": {},
   "outputs": [
    {
     "name": "stdout",
     "output_type": "stream",
     "text": [
      "X or Y: 1\n"
     ]
    }
   ],
   "source": [
    "#OR operator\n",
    "print(\"X or Y:\", x or y)"
   ]
  },
  {
   "cell_type": "code",
   "execution_count": 5,
   "id": "f995713b-1b83-4d46-ae99-fd453e8538d5",
   "metadata": {},
   "outputs": [
    {
     "name": "stdout",
     "output_type": "stream",
     "text": [
      "Not x: False\n"
     ]
    }
   ],
   "source": [
    "#NOT operator\n",
    "print(\"Not x:\", not x)"
   ]
  },
  {
   "cell_type": "code",
   "execution_count": 7,
   "id": "2dec58e3-d254-47fb-b270-c1b1d2d80cd4",
   "metadata": {},
   "outputs": [
    {
     "name": "stdout",
     "output_type": "stream",
     "text": [
      "XOR : 1\n"
     ]
    }
   ],
   "source": [
    "#XOR operator\n",
    "print(\"XOR :\", x^y) "
   ]
  },
  {
   "cell_type": "code",
   "execution_count": null,
   "id": "d871b1e6-8f6c-4c24-aa41-3561e14311fc",
   "metadata": {},
   "outputs": [],
   "source": []
  }
 ],
 "metadata": {
  "kernelspec": {
   "display_name": "Python 3 (ipykernel)",
   "language": "python",
   "name": "python3"
  },
  "language_info": {
   "codemirror_mode": {
    "name": "ipython",
    "version": 3
   },
   "file_extension": ".py",
   "mimetype": "text/x-python",
   "name": "python",
   "nbconvert_exporter": "python",
   "pygments_lexer": "ipython3",
   "version": "3.12.5"
  }
 },
 "nbformat": 4,
 "nbformat_minor": 5
}
