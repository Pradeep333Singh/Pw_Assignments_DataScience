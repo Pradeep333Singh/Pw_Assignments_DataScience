{
 "cells": [
  {
   "cell_type": "code",
   "execution_count": 1,
   "id": "1b5e42cd-45ba-4628-8e19-9146dc88c915",
   "metadata": {},
   "outputs": [],
   "source": [
    "#Factorial of a number enterd by a user"
   ]
  },
  {
   "cell_type": "code",
   "execution_count": 12,
   "id": "f2c48aa2-23d9-4aeb-8d90-96fb8634fab3",
   "metadata": {},
   "outputs": [
    {
     "name": "stdin",
     "output_type": "stream",
     "text": [
      "Enter a number:  10\n"
     ]
    }
   ],
   "source": [
    "#Take the input from the user\n",
    "num = int(input(\"Enter a number: \"))"
   ]
  },
  {
   "cell_type": "code",
   "execution_count": 13,
   "id": "dbb661fc-1e23-4859-8ffa-c1e4c97cf014",
   "metadata": {},
   "outputs": [],
   "source": [
    "#declare variable fact and initialise its value as 1\n",
    "fact = 1"
   ]
  },
  {
   "cell_type": "code",
   "execution_count": 14,
   "id": "c3b6dae0-c7e2-4bcd-b374-501c783a2056",
   "metadata": {},
   "outputs": [],
   "source": [
    "#while loop for recursive operation\n",
    "while (num > 1):\n",
    "    fact *= num\n",
    "    num = num - 1"
   ]
  },
  {
   "cell_type": "code",
   "execution_count": 15,
   "id": "9e714459-6a64-4566-b158-c0d5e2bab4dd",
   "metadata": {},
   "outputs": [
    {
     "name": "stdout",
     "output_type": "stream",
     "text": [
      "factorial is : 3628800\n"
     ]
    }
   ],
   "source": [
    "#print the factorial of given number\n",
    "print(\"factorial is :\",fact)"
   ]
  },
  {
   "cell_type": "code",
   "execution_count": null,
   "id": "421b46b7-6c83-4f7a-b5a0-50e7a2f529d6",
   "metadata": {},
   "outputs": [],
   "source": []
  }
 ],
 "metadata": {
  "kernelspec": {
   "display_name": "Python 3 (ipykernel)",
   "language": "python",
   "name": "python3"
  },
  "language_info": {
   "codemirror_mode": {
    "name": "ipython",
    "version": 3
   },
   "file_extension": ".py",
   "mimetype": "text/x-python",
   "name": "python",
   "nbconvert_exporter": "python",
   "pygments_lexer": "ipython3",
   "version": "3.12.5"
  }
 },
 "nbformat": 4,
 "nbformat_minor": 5
}
