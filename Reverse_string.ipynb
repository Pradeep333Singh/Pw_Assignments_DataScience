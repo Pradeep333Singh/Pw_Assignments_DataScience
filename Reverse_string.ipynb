{
 "cells": [
  {
   "cell_type": "code",
   "execution_count": 2,
   "id": "2fe23efe-ae05-4738-a008-036a3b56fff4",
   "metadata": {},
   "outputs": [],
   "source": [
    "#program to reverse a string using while loop"
   ]
  },
  {
   "cell_type": "code",
   "execution_count": 15,
   "id": "078a34ba-21c6-43b4-887d-332216a3bdb1",
   "metadata": {},
   "outputs": [
    {
     "name": "stdin",
     "output_type": "stream",
     "text": [
      "Enter a string:  hello\n"
     ]
    }
   ],
   "source": [
    "str = input(\"Enter a string: \")"
   ]
  },
  {
   "cell_type": "code",
   "execution_count": 16,
   "id": "0c5767d2-e0cc-492c-9e56-c89626d567f0",
   "metadata": {},
   "outputs": [],
   "source": [
    "rev_str = \"\""
   ]
  },
  {
   "cell_type": "code",
   "execution_count": 17,
   "id": "8cf34b15-78b5-4894-a40e-879c4640a6c9",
   "metadata": {},
   "outputs": [],
   "source": [
    "i = len(str)-1"
   ]
  },
  {
   "cell_type": "code",
   "execution_count": 18,
   "id": "27bfd7d0-8c6c-4015-9f17-48bfb5c7c97f",
   "metadata": {},
   "outputs": [],
   "source": [
    "while (i >=0):\n",
    "    rev_str += str[i]\n",
    "    i -= 1"
   ]
  },
  {
   "cell_type": "code",
   "execution_count": 20,
   "id": "22651fab-a372-4303-8de2-111a6b58a2b4",
   "metadata": {},
   "outputs": [
    {
     "name": "stdout",
     "output_type": "stream",
     "text": [
      "Reverse string : olleh\n"
     ]
    }
   ],
   "source": [
    "print(\"Reverse string :\",rev_str)"
   ]
  },
  {
   "cell_type": "code",
   "execution_count": null,
   "id": "ea0ca088-b445-471e-88c1-931634899fe7",
   "metadata": {},
   "outputs": [],
   "source": []
  },
  {
   "cell_type": "code",
   "execution_count": null,
   "id": "bcac4e96-24eb-4440-9ec5-4d5cd06ed7d7",
   "metadata": {},
   "outputs": [],
   "source": []
  }
 ],
 "metadata": {
  "kernelspec": {
   "display_name": "Python 3 (ipykernel)",
   "language": "python",
   "name": "python3"
  },
  "language_info": {
   "codemirror_mode": {
    "name": "ipython",
    "version": 3
   },
   "file_extension": ".py",
   "mimetype": "text/x-python",
   "name": "python",
   "nbconvert_exporter": "python",
   "pygments_lexer": "ipython3",
   "version": "3.12.5"
  }
 },
 "nbformat": 4,
 "nbformat_minor": 5
}
