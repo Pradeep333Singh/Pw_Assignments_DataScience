{
  "cells": [
    {
      "cell_type": "markdown",
      "metadata": {
        "id": "view-in-github",
        "colab_type": "text"
      },
      "source": [
        "<a href=\"https://colab.research.google.com/github/Pradeep333Singh/Pw_Assignments_DataScience/blob/main/OOP_Assignment_Python.ipynb\" target=\"_parent\"><img src=\"https://colab.research.google.com/assets/colab-badge.svg\" alt=\"Open In Colab\"/></a>"
      ]
    },
    {
      "cell_type": "markdown",
      "id": "c89f6e80",
      "metadata": {
        "id": "c89f6e80"
      },
      "source": [
        "# OOP_Assignment_Python\n",
        "\n",
        "This notebook contains the theoretical questions (Section 1) and practical problems (Section 2) as requested.\n",
        "\n",
        "**Format:**\n",
        "- Section 1: Each cell is a Markdown cell with the **question in bold** followed by a short answer.\n",
        "- Section 2: Each cell is a Code cell. The first line in the code cell is a comment with the **question in bold**, followed by the Python program (no outputs)."
      ]
    },
    {
      "cell_type": "markdown",
      "id": "32381792",
      "metadata": {
        "id": "32381792"
      },
      "source": [
        "## 🧠 Section 1 — Theoretical Questions\n",
        "\n",
        "(Each cell contains the question in **bold** followed by a concise answer.)"
      ]
    },
    {
      "cell_type": "markdown",
      "id": "3743c67e",
      "metadata": {
        "id": "3743c67e"
      },
      "source": [
        "**What is Object-Oriented Programming (OOP)?**\n",
        "\n",
        "OOP is a programming paradigm based on objects that encapsulate data and behavior (methods)."
      ]
    },
    {
      "cell_type": "markdown",
      "id": "e90e4f4b",
      "metadata": {
        "id": "e90e4f4b"
      },
      "source": [
        "**What is a class in OOP?**\n",
        "\n",
        "A class is a blueprint that defines attributes and methods for objects."
      ]
    },
    {
      "cell_type": "markdown",
      "id": "3b3a5b1b",
      "metadata": {
        "id": "3b3a5b1b"
      },
      "source": [
        "**What is an object in OOP?**\n",
        "\n",
        "An object is an instance of a class holding specific values for attributes and providing behavior via methods."
      ]
    },
    {
      "cell_type": "markdown",
      "id": "4ee3103f",
      "metadata": {
        "id": "4ee3103f"
      },
      "source": [
        "**What is the difference between abstraction and encapsulation?**\n",
        "\n",
        "Abstraction hides complex implementation details; encapsulation bundles data and methods and restricts direct access."
      ]
    },
    {
      "cell_type": "markdown",
      "id": "6c730652",
      "metadata": {
        "id": "6c730652"
      },
      "source": [
        "**What are dunder methods in Python?**\n",
        "\n",
        "Dunder methods are special methods surrounded by double underscores (e.g., __init__, __str__) that customize object behavior."
      ]
    },
    {
      "cell_type": "markdown",
      "id": "ed3c8f48",
      "metadata": {
        "id": "ed3c8f48"
      },
      "source": [
        "**Explain the concept of inheritance in OOP.**\n",
        "\n",
        "Inheritance allows a class (child) to acquire attributes and methods from another class (parent)."
      ]
    },
    {
      "cell_type": "markdown",
      "id": "d9d28bd2",
      "metadata": {
        "id": "d9d28bd2"
      },
      "source": [
        "**What is polymorphism in OOP?**\n",
        "\n",
        "Polymorphism allows different classes to be treated through the same interface, with each class providing its own implementation."
      ]
    },
    {
      "cell_type": "markdown",
      "id": "8280404b",
      "metadata": {
        "id": "8280404b"
      },
      "source": [
        "**How is encapsulation achieved in Python?**\n",
        "\n",
        "Encapsulation is achieved using naming conventions for private attributes (single _ or double __) and accessor methods (getters/setters)."
      ]
    },
    {
      "cell_type": "markdown",
      "id": "2e55b442",
      "metadata": {
        "id": "2e55b442"
      },
      "source": [
        "**What is a constructor in Python?**\n",
        "\n",
        "A constructor is the __init__ method used to initialize a new object's state when it is created."
      ]
    },
    {
      "cell_type": "markdown",
      "id": "605827ae",
      "metadata": {
        "id": "605827ae"
      },
      "source": [
        "**What are class and static methods in Python?**\n",
        "\n",
        "Class methods (@classmethod) receive the class (cls) and can access class-level data; static methods (@staticmethod) do not receive an implicit first argument and behave like plain functions within the class namespace."
      ]
    },
    {
      "cell_type": "markdown",
      "id": "1e2c7902",
      "metadata": {
        "id": "1e2c7902"
      },
      "source": [
        "**What is method overloading in Python?**\n",
        "\n",
        "Python does not support true compile-time method overloading; similar behavior can be achieved using default arguments or *args/**kwargs."
      ]
    },
    {
      "cell_type": "markdown",
      "id": "b5d873d4",
      "metadata": {
        "id": "b5d873d4"
      },
      "source": [
        "**What is method overriding in OOP?**\n",
        "\n",
        "Method overriding occurs when a subclass provides a new implementation for a method defined in its superclass."
      ]
    },
    {
      "cell_type": "markdown",
      "id": "bca9307d",
      "metadata": {
        "id": "bca9307d"
      },
      "source": [
        "**What is a property decorator in Python?**\n",
        "\n",
        "@property converts a method into a readable attribute; paired with @<name>.setter and @<name>.deleter it manages attribute access cleanly."
      ]
    },
    {
      "cell_type": "markdown",
      "id": "e558d254",
      "metadata": {
        "id": "e558d254"
      },
      "source": [
        "**Why is polymorphism important in OOP?**\n",
        "\n",
        "Polymorphism increases code flexibility and reusability by allowing the same interface to work with different underlying types."
      ]
    },
    {
      "cell_type": "markdown",
      "id": "6c9f3c70",
      "metadata": {
        "id": "6c9f3c70"
      },
      "source": [
        "**What is an abstract class in Python?**\n",
        "\n",
        "An abstract class (from abc import ABC) can define abstract methods that must be implemented by concrete subclasses."
      ]
    },
    {
      "cell_type": "markdown",
      "id": "38f6eb22",
      "metadata": {
        "id": "38f6eb22"
      },
      "source": [
        "**What are the advantages of OOP?**\n",
        "\n",
        "Advantages include modularity, code reuse, extensibility, maintainability, and clearer mapping to real-world models."
      ]
    },
    {
      "cell_type": "markdown",
      "id": "7b982620",
      "metadata": {
        "id": "7b982620"
      },
      "source": [
        "**What is the difference between a class variable and an instance variable?**\n",
        "\n",
        "Class variables are shared across all instances; instance variables are unique to each object instance."
      ]
    },
    {
      "cell_type": "markdown",
      "id": "92482799",
      "metadata": {
        "id": "92482799"
      },
      "source": [
        "**What is multiple inheritance in Python?**\n",
        "\n",
        "Multiple inheritance is when a class inherits from more than one parent class (e.g., class C(A, B))."
      ]
    },
    {
      "cell_type": "markdown",
      "id": "05ffc1c1",
      "metadata": {
        "id": "05ffc1c1"
      },
      "source": [
        "**Explain the purpose of __str__ and __repr__ methods in Python.**\n",
        "\n",
        "__str__ returns a user-friendly string representation; __repr__ returns an unambiguous developer-oriented representation (ideally evaluable)."
      ]
    },
    {
      "cell_type": "markdown",
      "id": "6a74ac99",
      "metadata": {
        "id": "6a74ac99"
      },
      "source": [
        "**What is the significance of the super() function in Python?**\n",
        "\n",
        "super() is used to call parent class methods (including constructors) from a subclass, supporting cooperative multiple inheritance."
      ]
    },
    {
      "cell_type": "markdown",
      "id": "22bcc2cb",
      "metadata": {
        "id": "22bcc2cb"
      },
      "source": [
        "**What is the significance of the __del__ method in Python?**\n",
        "\n",
        "__del__ is a destructor called when an object is about to be destroyed; it is used for cleanup but its use is generally discouraged for critical resource management."
      ]
    },
    {
      "cell_type": "markdown",
      "id": "78e42fe2",
      "metadata": {
        "id": "78e42fe2"
      },
      "source": [
        "**What is the difference between @staticmethod and @classmethod in Python?**\n",
        "\n",
        "@staticmethod does not receive any implicit first argument; @classmethod receives the class (cls) as the first argument and can modify class state."
      ]
    },
    {
      "cell_type": "markdown",
      "id": "2921b22a",
      "metadata": {
        "id": "2921b22a"
      },
      "source": [
        "**How does polymorphism work in Python with inheritance?**\n",
        "\n",
        "Polymorphism works via method overriding: child classes implement the same method names as the parent and the runtime resolves which method to call based on the instance type."
      ]
    },
    {
      "cell_type": "markdown",
      "id": "da4f4bc8",
      "metadata": {
        "id": "da4f4bc8"
      },
      "source": [
        "**What is method chaining in Python OOP?**\n",
        "\n",
        "Method chaining returns self from methods so that multiple methods can be called in sequence on the same object (obj.method1().method2())."
      ]
    },
    {
      "cell_type": "markdown",
      "id": "c68c5c02",
      "metadata": {
        "id": "c68c5c02"
      },
      "source": [
        "**What is the purpose of the __call__ method in Python?**\n",
        "\n",
        "__call__ makes an object callable like a function; defining __call__ allows instances to be used with func(args)."
      ]
    },
    {
      "cell_type": "markdown",
      "id": "6288424c",
      "metadata": {
        "id": "6288424c"
      },
      "source": [
        "## 💻 Section 2 — Practical Problems\n",
        "\n",
        "(Each code cell starts with a commented question in bold, followed by the Python program. Outputs are not included.)"
      ]
    },
    {
      "cell_type": "code",
      "execution_count": 1,
      "id": "4df8bc23",
      "metadata": {
        "colab": {
          "base_uri": "https://localhost:8080/"
        },
        "id": "4df8bc23",
        "outputId": "ceece920-f52a-4da6-f8f0-271861e983ff"
      },
      "outputs": [
        {
          "output_type": "stream",
          "name": "stdout",
          "text": [
            "Bark!\n"
          ]
        }
      ],
      "source": [
        "# **Q1. Create a parent class Animal with a method speak() that prints a generic message. Create a child class Dog that overrides the speak() method to print \"Bark!\".**\n",
        "class Animal:\n",
        "    def speak(self):\n",
        "        print(\"Some generic animal sound\")\n",
        "\n",
        "class Dog(Animal):\n",
        "    def speak(self):\n",
        "        print(\"Bark!\")\n",
        "\n",
        "# Example usage:\n",
        "Dog().speak()"
      ]
    },
    {
      "cell_type": "code",
      "execution_count": 6,
      "id": "c8ab0e31",
      "metadata": {
        "colab": {
          "base_uri": "https://localhost:8080/"
        },
        "id": "c8ab0e31",
        "outputId": "c0bbeec8-b646-441c-9af8-5f3f2805b540"
      },
      "outputs": [
        {
          "output_type": "stream",
          "name": "stdout",
          "text": [
            "78.53975\n",
            "12\n"
          ]
        }
      ],
      "source": [
        "# **Q2. Write a program to create an abstract class Shape with a method area(). Derive classes Circle and Rectangle from it and implement the area() method in both.**\n",
        "from abc import ABC, abstractmethod\n",
        "\n",
        "class Shape(ABC):\n",
        "    @abstractmethod\n",
        "    def area(self):\n",
        "        pass\n",
        "\n",
        "class Circle(Shape):\n",
        "    def __init__(self, r):\n",
        "        self.r = r\n",
        "    def area(self):\n",
        "        return 3.14159 * self.r ** 2\n",
        "\n",
        "class Rectangle(Shape):\n",
        "    def __init__(self, l, w):\n",
        "        self.l = l\n",
        "        self.w = w\n",
        "    def area(self):\n",
        "        return self.l * self.w\n",
        "\n",
        "# Example usage:\n",
        "print(Circle(5).area())\n",
        "print(Rectangle(3,4).area())"
      ]
    },
    {
      "cell_type": "code",
      "execution_count": 7,
      "id": "03aaf693",
      "metadata": {
        "colab": {
          "base_uri": "https://localhost:8080/"
        },
        "id": "03aaf693",
        "outputId": "08c4249a-847b-4374-e693-658ff256e0a1"
      },
      "outputs": [
        {
          "output_type": "execute_result",
          "data": {
            "text/plain": [
              "<__main__.ElectricCar at 0x7fc98a49d2b0>"
            ]
          },
          "metadata": {},
          "execution_count": 7
        }
      ],
      "source": [
        "# **Q3. Implement a multi-level inheritance scenario where a class Vehicle has an attribute type. Derive a class Car and further derive a class ElectricCar that adds a battery attribute.**\n",
        "class Vehicle:\n",
        "    def __init__(self, vtype):\n",
        "        self.type = vtype\n",
        "\n",
        "class Car(Vehicle):\n",
        "    def __init__(self, vtype, brand):\n",
        "        super().__init__(vtype)\n",
        "        self.brand = brand\n",
        "\n",
        "class ElectricCar(Car):\n",
        "    def __init__(self, vtype, brand, battery):\n",
        "        super().__init__(vtype, brand)\n",
        "        self.battery = battery\n",
        "\n",
        "# Example usage:\n",
        "ElectricCar('Car','Tesla','85 kWh')"
      ]
    },
    {
      "cell_type": "code",
      "execution_count": 8,
      "id": "21ba784f",
      "metadata": {
        "colab": {
          "base_uri": "https://localhost:8080/"
        },
        "id": "21ba784f",
        "outputId": "d2999b82-c1ce-4396-e7bb-01ea853e53af"
      },
      "outputs": [
        {
          "output_type": "stream",
          "name": "stdout",
          "text": [
            "Sparrow flies high.\n",
            "Penguins cannot fly.\n"
          ]
        }
      ],
      "source": [
        "# **Q4. Demonstrate polymorphism by creating a base class Bird with a method fly(). Create two derived classes Sparrow and Penguin that override the fly() method.**\n",
        "class Bird:\n",
        "    def fly(self):\n",
        "        print(\"Some birds can fly.\")\n",
        "\n",
        "class Sparrow(Bird):\n",
        "    def fly(self):\n",
        "        print(\"Sparrow flies high.\")\n",
        "\n",
        "class Penguin(Bird):\n",
        "    def fly(self):\n",
        "        print(\"Penguins cannot fly.\")\n",
        "\n",
        "# Example usage:\n",
        "for b in [Sparrow(), Penguin()]: b.fly()"
      ]
    },
    {
      "cell_type": "code",
      "execution_count": 14,
      "id": "d41ffe2e",
      "metadata": {
        "colab": {
          "base_uri": "https://localhost:8080/"
        },
        "id": "d41ffe2e",
        "outputId": "31de588f-e29a-4ca6-b517-0abfef72ab98"
      },
      "outputs": [
        {
          "output_type": "stream",
          "name": "stdout",
          "text": [
            "1000\n",
            "1500\n",
            "1300\n"
          ]
        }
      ],
      "source": [
        "# **Q5. Write a program to demonstrate encapsulation by creating a class BankAccount with private attributes balance and methods to deposit, withdraw, and check balance.**\n",
        "class BankAccount:\n",
        "    def __init__(self, balance=0):\n",
        "        self.__balance = balance\n",
        "\n",
        "    def deposit(self, amount):\n",
        "        self.__balance += amount\n",
        "\n",
        "    def withdraw(self, amount):\n",
        "        if amount <= self.__balance:\n",
        "            self.__balance -= amount\n",
        "        else:\n",
        "            print(\"Insufficient balance\")\n",
        "\n",
        "    def get_balance(self):\n",
        "        return self.__balance\n",
        "\n",
        "# Example usage:\n",
        "acc = BankAccount(1000)\n",
        "print(acc.get_balance())\n",
        "acc.deposit(500)\n",
        "print(acc.get_balance())\n",
        "acc.withdraw(200)\n",
        "print(acc.get_balance())"
      ]
    },
    {
      "cell_type": "code",
      "execution_count": 15,
      "id": "66a67ec2",
      "metadata": {
        "colab": {
          "base_uri": "https://localhost:8080/"
        },
        "id": "66a67ec2",
        "outputId": "c3a8c9b4-0c6b-450d-f52c-7ac66a2c303e"
      },
      "outputs": [
        {
          "output_type": "stream",
          "name": "stdout",
          "text": [
            "Strumming the guitar\n",
            "Playing the piano\n"
          ]
        }
      ],
      "source": [
        "# **Q6. Demonstrate runtime polymorphism using a method play() in a base class Instrument. Derive classes Guitar and Piano that implement their own version of play().**\n",
        "class Instrument:\n",
        "    def play(self):\n",
        "        raise NotImplementedError\n",
        "\n",
        "class Guitar(Instrument):\n",
        "    def play(self):\n",
        "        print(\"Strumming the guitar\")\n",
        "\n",
        "class Piano(Instrument):\n",
        "    def play(self):\n",
        "        print(\"Playing the piano\")\n",
        "\n",
        "# Example usage:\n",
        "for inst in [Guitar(), Piano()]: inst.play()"
      ]
    },
    {
      "cell_type": "code",
      "execution_count": 16,
      "id": "38a5b7f7",
      "metadata": {
        "colab": {
          "base_uri": "https://localhost:8080/"
        },
        "id": "38a5b7f7",
        "outputId": "ce1f1d51-3e1c-4c0c-9129-cbc00e8ede52"
      },
      "outputs": [
        {
          "output_type": "stream",
          "name": "stdout",
          "text": [
            "5\n",
            "2\n"
          ]
        }
      ],
      "source": [
        "# **Q7. Create a class MathOperations with a class method add_numbers() to add two numbers and a static method subtract_numbers() to subtract two numbers.**\n",
        "class MathOperations:\n",
        "    @classmethod\n",
        "    def add_numbers(cls, a, b):\n",
        "        return a + b\n",
        "\n",
        "    @staticmethod\n",
        "    def subtract_numbers(a, b):\n",
        "        return a - b\n",
        "\n",
        "# Example usage:\n",
        "print(MathOperations.add_numbers(2,3))\n",
        "print(MathOperations.subtract_numbers(5,3))"
      ]
    },
    {
      "cell_type": "code",
      "execution_count": 17,
      "id": "70af075a",
      "metadata": {
        "colab": {
          "base_uri": "https://localhost:8080/"
        },
        "id": "70af075a",
        "outputId": "16e4584c-4b62-4bc7-d5d8-c8e64e7f947a"
      },
      "outputs": [
        {
          "output_type": "execute_result",
          "data": {
            "text/plain": [
              "2"
            ]
          },
          "metadata": {},
          "execution_count": 17
        }
      ],
      "source": [
        "# **Q8. Implement a class Person with a class method to count the total number of persons created.**\n",
        "class Person:\n",
        "    count = 0\n",
        "    def __init__(self, name):\n",
        "        self.name = name\n",
        "        Person.count += 1\n",
        "    @classmethod\n",
        "    def total_persons(cls):\n",
        "        return cls.count\n",
        "\n",
        "# Example usage:\n",
        "Person('A')\n",
        "Person('B')\n",
        "Person.total_persons()"
      ]
    },
    {
      "cell_type": "code",
      "execution_count": 18,
      "id": "946cf153",
      "metadata": {
        "colab": {
          "base_uri": "https://localhost:8080/"
        },
        "id": "946cf153",
        "outputId": "87e9d03d-9cb1-478b-89ec-2bb148772236"
      },
      "outputs": [
        {
          "output_type": "stream",
          "name": "stdout",
          "text": [
            "3/4\n"
          ]
        }
      ],
      "source": [
        "# **Q9. Write a class Fraction with attributes numerator and denominator. Override the str method to display the fraction as \"numerator/denominator\".**\n",
        "class Fraction:\n",
        "    def __init__(self, num, den):\n",
        "        self.num = num\n",
        "        self.den = den\n",
        "    def __str__(self):\n",
        "        return f\"{self.num}/{self.den}\"\n",
        "\n",
        "# Example usage:\n",
        "print(str(Fraction(3,4)))\n"
      ]
    },
    {
      "cell_type": "code",
      "execution_count": 19,
      "id": "a7aa6771",
      "metadata": {
        "colab": {
          "base_uri": "https://localhost:8080/"
        },
        "id": "a7aa6771",
        "outputId": "1227ea98-d02f-4215-c0f0-4e10e7439509"
      },
      "outputs": [
        {
          "output_type": "stream",
          "name": "stdout",
          "text": [
            "Vector(4, 6)\n"
          ]
        }
      ],
      "source": [
        "# **Q10. Demonstrate operator overloading by creating a class Vector and overriding the add method to add two vectors.**\n",
        "class Vector:\n",
        "    def __init__(self, x, y):\n",
        "        self.x = x\n",
        "        self.y = y\n",
        "    def __add__(self, other):\n",
        "        return Vector(self.x + other.x, self.y + other.y)\n",
        "    def __repr__(self):\n",
        "        return f\"Vector({self.x}, {self.y})\"\n",
        "\n",
        "# Example usage:\n",
        "print(Vector(1,2) + Vector(3,4))\n"
      ]
    },
    {
      "cell_type": "code",
      "execution_count": 20,
      "id": "c8751e07",
      "metadata": {
        "colab": {
          "base_uri": "https://localhost:8080/"
        },
        "id": "c8751e07",
        "outputId": "9a588f65-99da-4462-fb5d-8ffc15435078"
      },
      "outputs": [
        {
          "output_type": "stream",
          "name": "stdout",
          "text": [
            "Hello, my name is John and I am 30 years old.\n"
          ]
        }
      ],
      "source": [
        "# **Q11. Create a class Person with attributes name and age. Add a method greet() that prints \"Hello, my name is {name} and I am {age} years old.\"**\n",
        "class Person:\n",
        "    def __init__(self, name, age):\n",
        "        self.name = name\n",
        "        self.age = age\n",
        "    def greet(self):\n",
        "        print(f\"Hello, my name is {self.name} and I am {self.age} years old.\")\n",
        "\n",
        "# Example usage:\n",
        "Person('John',30).greet()\n",
        ""
      ]
    },
    {
      "cell_type": "code",
      "execution_count": 21,
      "id": "7ce200f2",
      "metadata": {
        "colab": {
          "base_uri": "https://localhost:8080/"
        },
        "id": "7ce200f2",
        "outputId": "61ef4cbe-6336-4885-e8d7-aeb7d4bb92cb"
      },
      "outputs": [
        {
          "output_type": "execute_result",
          "data": {
            "text/plain": [
              "85.0"
            ]
          },
          "metadata": {},
          "execution_count": 21
        }
      ],
      "source": [
        "# **Q12. Implement a class Student with attributes name and grades. Create a method average_grade() to compute the average of the grades.**\n",
        "class Student:\n",
        "    def __init__(self, name, grades):\n",
        "        self.name = name\n",
        "        self.grades = grades\n",
        "    def average_grade(self):\n",
        "        return sum(self.grades)/len(self.grades) if self.grades else 0\n",
        "\n",
        "# Example usage:\n",
        "Student('A',[80,90,85]).average_grade()"
      ]
    },
    {
      "cell_type": "code",
      "execution_count": 22,
      "id": "a8f75b53",
      "metadata": {
        "colab": {
          "base_uri": "https://localhost:8080/"
        },
        "id": "a8f75b53",
        "outputId": "56fe04ce-3fbe-4f98-a3db-84ea693c60c0"
      },
      "outputs": [
        {
          "output_type": "execute_result",
          "data": {
            "text/plain": [
              "20"
            ]
          },
          "metadata": {},
          "execution_count": 22
        }
      ],
      "source": [
        "# **Q13. Create a class Rectangle with methods set_dimensions() to set the dimensions and area() to calculate the area.**\n",
        "class Rectangle:\n",
        "    def __init__(self):\n",
        "        self.length = 0\n",
        "        self.width = 0\n",
        "    def set_dimensions(self, l, w):\n",
        "        self.length = l\n",
        "        self.width = w\n",
        "    def area(self):\n",
        "        return self.length * self.width\n",
        "\n",
        "# Example usage:\n",
        "r = Rectangle(); r.set_dimensions(4,5); r.area()"
      ]
    },
    {
      "cell_type": "code",
      "execution_count": 23,
      "id": "7d367850",
      "metadata": {
        "colab": {
          "base_uri": "https://localhost:8080/"
        },
        "id": "7d367850",
        "outputId": "ab84c0a3-cdd9-4822-8429-e480327145f1"
      },
      "outputs": [
        {
          "output_type": "execute_result",
          "data": {
            "text/plain": [
              "21000"
            ]
          },
          "metadata": {},
          "execution_count": 23
        }
      ],
      "source": [
        "# **Q14. Create a class Employee with a method calculate_salary() that computes the salary based on hours worked and hourly rate. Create a derived class Manager that adds a bonus to the salary.**\n",
        "class Employee:\n",
        "    def __init__(self, name, hours, rate):\n",
        "        self.name = name\n",
        "        self.hours = hours\n",
        "        self.rate = rate\n",
        "    def calculate_salary(self):\n",
        "        return self.hours * self.rate\n",
        "\n",
        "class Manager(Employee):\n",
        "    def __init__(self, name, hours, rate, bonus):\n",
        "        super().__init__(name, hours, rate)\n",
        "        self.bonus = bonus\n",
        "    def calculate_salary(self):\n",
        "        return super().calculate_salary() + self.bonus\n",
        "\n",
        "# Example usage:\n",
        "Manager('M',160,100,5000).calculate_salary()\n"
      ]
    },
    {
      "cell_type": "code",
      "execution_count": 24,
      "id": "fa9fd162",
      "metadata": {
        "colab": {
          "base_uri": "https://localhost:8080/"
        },
        "id": "fa9fd162",
        "outputId": "3bb8e3cb-0731-4976-b0bf-3504fb73a52b"
      },
      "outputs": [
        {
          "output_type": "execute_result",
          "data": {
            "text/plain": [
              "50"
            ]
          },
          "metadata": {},
          "execution_count": 24
        }
      ],
      "source": [
        "# **Q15. Create a class Product with attributes name, price, and quantity. Implement a method total_price() that calculates the total price of the product.**\n",
        "class Product:\n",
        "    def __init__(self, name, price, quantity):\n",
        "        self.name = name\n",
        "        self.price = price\n",
        "        self.quantity = quantity\n",
        "    def total_price(self):\n",
        "        return self.price * self.quantity\n",
        "\n",
        "# Example usage:\n",
        "Product('Pen',10,5).total_price()\n"
      ]
    },
    {
      "cell_type": "code",
      "execution_count": 26,
      "id": "b0d13cad",
      "metadata": {
        "colab": {
          "base_uri": "https://localhost:8080/"
        },
        "id": "b0d13cad",
        "outputId": "34110432-20ff-45b9-c60e-2b177589be41"
      },
      "outputs": [
        {
          "output_type": "stream",
          "name": "stdout",
          "text": [
            "Moo\n",
            "Baa\n"
          ]
        }
      ],
      "source": [
        "# **Q16. Create a class Animal with an abstract method sound(). Create two derived classes Cow and Sheep that implement the sound() method.**\n",
        "from abc import ABC, abstractmethod\n",
        "class Animal(ABC):\n",
        "    @abstractmethod\n",
        "    def sound(self):\n",
        "        pass\n",
        "class Cow(Animal):\n",
        "    def sound(self):\n",
        "        print('Moo')\n",
        "class Sheep(Animal):\n",
        "    def sound(self):\n",
        "        print('Baa')\n",
        "\n",
        "# Example usage:\n",
        "Cow().sound()\n",
        "Sheep().sound()"
      ]
    },
    {
      "cell_type": "code",
      "execution_count": 27,
      "id": "6e240fe3",
      "metadata": {
        "colab": {
          "base_uri": "https://localhost:8080/",
          "height": 36
        },
        "id": "6e240fe3",
        "outputId": "8fa734c2-bc30-4176-c8e6-3587f7fe9443"
      },
      "outputs": [
        {
          "output_type": "execute_result",
          "data": {
            "text/plain": [
              "'1984 by Orwell, published in 1949'"
            ],
            "application/vnd.google.colaboratory.intrinsic+json": {
              "type": "string"
            }
          },
          "metadata": {},
          "execution_count": 27
        }
      ],
      "source": [
        "# **Q17. Create a class Book with attributes title, author, and year_published. Add a method get_book_info() that returns a formatted string with the book's details.**\n",
        "class Book:\n",
        "    def __init__(self, title, author, year_published):\n",
        "        self.title = title\n",
        "        self.author = author\n",
        "        self.year_published = year_published\n",
        "    def get_book_info(self):\n",
        "        return f\"{self.title} by {self.author}, published in {self.year_published}\"\n",
        "\n",
        "# Example usage:\n",
        "Book('1984','Orwell',1949).get_book_info()\n"
      ]
    },
    {
      "cell_type": "code",
      "execution_count": 28,
      "id": "d557361c",
      "metadata": {
        "colab": {
          "base_uri": "https://localhost:8080/"
        },
        "id": "d557361c",
        "outputId": "292320cc-1940-4bfc-e79f-d8cf343becb8"
      },
      "outputs": [
        {
          "output_type": "execute_result",
          "data": {
            "text/plain": [
              "<__main__.Mansion at 0x7fc973a46c30>"
            ]
          },
          "metadata": {},
          "execution_count": 28
        }
      ],
      "source": [
        "# **Q18. Create a class House with attributes address and price. Create a derived class Mansion that adds an attribute number_of_rooms.**\n",
        "class House:\n",
        "    def __init__(self, address, price):\n",
        "        self.address = address\n",
        "        self.price = price\n",
        "class Mansion(House):\n",
        "    def __init__(self, address, price, number_of_rooms):\n",
        "        super().__init__(address, price)\n",
        "        self.number_of_rooms = number_of_rooms\n",
        "\n",
        "# Example usage:\n",
        "Mansion('Addr', 1000000, 12)\n"
      ]
    }
  ],
  "metadata": {
    "colab": {
      "provenance": [],
      "include_colab_link": true
    },
    "language_info": {
      "name": "python"
    },
    "kernelspec": {
      "name": "python3",
      "display_name": "Python 3"
    }
  },
  "nbformat": 4,
  "nbformat_minor": 5
}