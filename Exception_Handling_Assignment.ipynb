{
  "cells": [
    {
      "cell_type": "markdown",
      "metadata": {
        "id": "view-in-github",
        "colab_type": "text"
      },
      "source": [
        "<a href=\"https://colab.research.google.com/github/Pradeep333Singh/Pw_Assignments_DataScience/blob/main/Exception_Handling_Assignment.ipynb\" target=\"_parent\"><img src=\"https://colab.research.google.com/assets/colab-badge.svg\" alt=\"Open In Colab\"/></a>"
      ]
    },
    {
      "cell_type": "markdown",
      "id": "43d69d7a",
      "metadata": {
        "id": "43d69d7a"
      },
      "source": []
    },
    {
      "cell_type": "markdown",
      "id": "a629911e",
      "metadata": {
        "id": "a629911e"
      },
      "source": [
        "##  Section 1 — Theoretical Questions\n",
        "\n"
      ]
    },
    {
      "cell_type": "markdown",
      "id": "58b4846c",
      "metadata": {
        "id": "58b4846c"
      },
      "source": [
        "**What is the difference between interpreted and compiled languages**\n",
        "\n",
        "Interpreted languages execute code line-by-line at runtime (e.g., Python), while compiled languages are translated into machine code before execution (e.g., C)."
      ]
    },
    {
      "cell_type": "markdown",
      "id": "6fd48573",
      "metadata": {
        "id": "6fd48573"
      },
      "source": [
        "**What is exception handling in Python**\n",
        "\n",
        "Exception handling is the mechanism to catch and manage runtime errors using try, except, else, and finally blocks."
      ]
    },
    {
      "cell_type": "markdown",
      "id": "cc13aec9",
      "metadata": {
        "id": "cc13aec9"
      },
      "source": [
        "**What is the purpose of the finally block in exception handling**\n",
        "\n",
        "The finally block contains code that must run regardless of whether an exception occurred, typically used for cleanup."
      ]
    },
    {
      "cell_type": "markdown",
      "id": "b65d49b6",
      "metadata": {
        "id": "b65d49b6"
      },
      "source": [
        "**What is logging in Python**\n",
        "\n",
        "Logging is recording runtime information, errors, and events using the logging module for debugging and auditing."
      ]
    },
    {
      "cell_type": "markdown",
      "id": "b89e3130",
      "metadata": {
        "id": "b89e3130"
      },
      "source": [
        "**What is the significance of the __del__ method in Python**\n",
        "\n",
        "__del__ is a destructor method called when an object is about to be garbage-collected; it's used for cleanup but is not guaranteed to run immediately."
      ]
    },
    {
      "cell_type": "markdown",
      "id": "cb7842b6",
      "metadata": {
        "id": "cb7842b6"
      },
      "source": [
        "**What is the difference between import and from ... import in Python**\n",
        "\n",
        "`import module` imports the module namespace; `from module import name` imports specific attributes into the current namespace."
      ]
    },
    {
      "cell_type": "markdown",
      "id": "86aa3342",
      "metadata": {
        "id": "86aa3342"
      },
      "source": [
        "**How can you handle multiple exceptions in Python**\n",
        "\n",
        "Use multiple except blocks or a single except clause with a tuple of exception types (e.g., except (TypeError, ValueError):)."
      ]
    },
    {
      "cell_type": "markdown",
      "id": "71e7f352",
      "metadata": {
        "id": "71e7f352"
      },
      "source": [
        "**What is the purpose of the with statement when handling files in Python**\n",
        "\n",
        "The with statement ensures proper acquisition and release of resources, automatically closing files when the block exits."
      ]
    },
    {
      "cell_type": "markdown",
      "id": "b488cbee",
      "metadata": {
        "id": "b488cbee"
      },
      "source": [
        "**What is the difference between multithreading and multiprocessing**\n",
        "\n",
        "Multithreading runs multiple threads in the same process (shared memory) and is limited by the GIL for CPU-bound tasks; multiprocessing runs separate processes with independent memory, suitable for CPU-bound concurrency."
      ]
    },
    {
      "cell_type": "markdown",
      "id": "adc25497",
      "metadata": {
        "id": "adc25497"
      },
      "source": [
        "**What are the advantages of using logging in a program**\n",
        "\n",
        "Logging provides persistent records for debugging, monitoring, and auditing, with configurable levels and handlers."
      ]
    },
    {
      "cell_type": "markdown",
      "id": "b848dadc",
      "metadata": {
        "id": "b848dadc"
      },
      "source": [
        "**What is memory management in Python**\n",
        "\n",
        "Memory management involves allocation and deallocation of memory, handled by the Python runtime and garbage collector."
      ]
    },
    {
      "cell_type": "markdown",
      "id": "177ec247",
      "metadata": {
        "id": "177ec247"
      },
      "source": [
        "**What are the basic steps involved in exception handling in Python**\n",
        "\n",
        "Wrap code in try, catch exceptions in except, optionally run else if no exception, and cleanup in finally."
      ]
    },
    {
      "cell_type": "markdown",
      "id": "d325aa25",
      "metadata": {
        "id": "d325aa25"
      },
      "source": [
        "**Why is memory management important in Python**\n",
        "\n",
        "Proper memory management prevents leaks, reduces memory usage, and ensures application stability and performance."
      ]
    },
    {
      "cell_type": "markdown",
      "id": "74a15213",
      "metadata": {
        "id": "74a15213"
      },
      "source": [
        "**What is the role of try and except in exception handling**\n",
        "\n",
        "try encloses code that may raise exceptions; except catches and handles specific exceptions."
      ]
    },
    {
      "cell_type": "markdown",
      "id": "f9a1b25a",
      "metadata": {
        "id": "f9a1b25a"
      },
      "source": [
        "**How does Python's garbage collection system work**\n",
        "\n",
        "Python uses reference counting plus a cyclic garbage collector to detect and collect reference cycles."
      ]
    },
    {
      "cell_type": "markdown",
      "id": "212689c7",
      "metadata": {
        "id": "212689c7"
      },
      "source": [
        "**What is the purpose of the else block in exception handling**\n",
        "\n",
        "The else block runs if no exception was raised in the try block, used for code that should not run if an exception occurs."
      ]
    },
    {
      "cell_type": "markdown",
      "id": "233f2e20",
      "metadata": {
        "id": "233f2e20"
      },
      "source": [
        "**What are the common logging levels in Python**\n",
        "\n",
        "DEBUG, INFO, WARNING, ERROR, and CRITICAL."
      ]
    },
    {
      "cell_type": "markdown",
      "id": "cd5e87ea",
      "metadata": {
        "id": "cd5e87ea"
      },
      "source": [
        "**What is the difference between os.fork() and multiprocessing in Python**\n",
        "\n",
        "os.fork() creates a child process by duplicating the current process (Unix only); multiprocessing provides a cross-platform API for spawning processes with more control."
      ]
    },
    {
      "cell_type": "markdown",
      "id": "c7241503",
      "metadata": {
        "id": "c7241503"
      },
      "source": [
        "**What is the importance of closing a file in Python**\n",
        "\n",
        "Closing a file releases system resources and ensures buffered data is flushed to disk."
      ]
    },
    {
      "cell_type": "markdown",
      "id": "d4df6231",
      "metadata": {
        "id": "d4df6231"
      },
      "source": [
        "**What is the difference between file.read() and file.readline() in Python**\n",
        "\n",
        "file.read() reads the entire file or a specified number of bytes; file.readline() reads a single line at a time."
      ]
    },
    {
      "cell_type": "markdown",
      "id": "95f8c69f",
      "metadata": {
        "id": "95f8c69f"
      },
      "source": [
        "**What is the logging module in Python used for**\n",
        "\n",
        "The logging module provides a flexible framework for emitting log messages from Python programs."
      ]
    },
    {
      "cell_type": "markdown",
      "id": "a1343b2c",
      "metadata": {
        "id": "a1343b2c"
      },
      "source": [
        "**What is the os module in Python used for in file handling**\n",
        "\n",
        "The os module provides functions for interacting with the operating system, such as file and directory operations, path handling, and process control."
      ]
    },
    {
      "cell_type": "markdown",
      "id": "a5eaa989",
      "metadata": {
        "id": "a5eaa989"
      },
      "source": [
        "**What are the challenges associated with memory management in Python**\n",
        "\n",
        "Challenges include memory leaks from lingering references, managing large datasets, and overhead from interpreter and object metadata."
      ]
    },
    {
      "cell_type": "markdown",
      "id": "e00cfa17",
      "metadata": {
        "id": "e00cfa17"
      },
      "source": [
        "**How do you raise an exception manually in Python**\n",
        "\n",
        "Use the raise statement with an exception class or instance, e.g., raise ValueError('msg')."
      ]
    },
    {
      "cell_type": "markdown",
      "id": "b4100083",
      "metadata": {
        "id": "b4100083"
      },
      "source": [
        "**Why is it important to use multithreading in certain applications?**\n",
        "\n",
        "Multithreading is important for I/O-bound applications (like network or file I/O) where concurrency improves responsiveness and throughput."
      ]
    },
    {
      "cell_type": "markdown",
      "id": "f1676808",
      "metadata": {
        "id": "f1676808"
      },
      "source": [
        "## Section 2 — Practical Problems\n"
      ]
    },
    {
      "cell_type": "code",
      "execution_count": 6,
      "id": "5364ab08",
      "metadata": {
        "id": "5364ab08"
      },
      "outputs": [],
      "source": [
        "# **How can you open a file for writing in Python and write a string to it**\n",
        "with open('output.txt', 'w', encoding='utf-8') as f:\n",
        "    f.write('Hello, world!')\n",
        "    f.write('\\n')\n",
        "    f.write('Goodbye, world!')\n",
        "    f.write('\\n')\n",
        "    f.write('Hello again, world!')\n",
        "    f.write('\\n')\n",
        "    f.write('Goodbye again, world!')\n"
      ]
    },
    {
      "cell_type": "code",
      "execution_count": 7,
      "id": "d3277379",
      "metadata": {
        "id": "d3277379",
        "colab": {
          "base_uri": "https://localhost:8080/"
        },
        "outputId": "dfd1eace-1025-4538-84f8-a1457f7ad91e"
      },
      "outputs": [
        {
          "output_type": "stream",
          "name": "stdout",
          "text": [
            "Hello, world!\n",
            "Goodbye, world!\n",
            "Hello again, world!\n",
            "Goodbye again, world!\n"
          ]
        }
      ],
      "source": [
        "# **Write a Python program to read the contents of a file and print each line**\n",
        "with open('output.txt', 'r') as f:\n",
        "    for line in f:\n",
        "        print(line.rstrip('\\n'))"
      ]
    },
    {
      "cell_type": "code",
      "execution_count": 8,
      "id": "bd1399a2",
      "metadata": {
        "id": "bd1399a2",
        "colab": {
          "base_uri": "https://localhost:8080/"
        },
        "outputId": "f50a7b1a-2ede-4eb6-94d0-d99c6dc53b28"
      },
      "outputs": [
        {
          "output_type": "stream",
          "name": "stdout",
          "text": [
            "File not found. Please check the file path.\n"
          ]
        }
      ],
      "source": [
        "# **How would you handle a case where the file doesn't exist while trying to open it for reading**\n",
        "try:\n",
        "    with open('nonexistent.txt', 'r') as f:\n",
        "        data = f.read()\n",
        "except FileNotFoundError:\n",
        "    print('File not found. Please check the file path.')"
      ]
    },
    {
      "cell_type": "code",
      "execution_count": 11,
      "id": "ac03afef",
      "metadata": {
        "id": "ac03afef",
        "colab": {
          "base_uri": "https://localhost:8080/"
        },
        "outputId": "a45ca8cf-3b44-4194-8ff0-84865df61fa2"
      },
      "outputs": [
        {
          "output_type": "stream",
          "name": "stdout",
          "text": [
            "Hello, world!\n",
            "Goodbye, world!\n",
            "Hello again, world!\n",
            "Goodbye again, world!\n"
          ]
        }
      ],
      "source": [
        "# **Write a Python script that reads from one file and writes its content to another file**\n",
        "with open('output.txt', 'r') as out, open('input.txt', 'w') as input:\n",
        "    for line in out:\n",
        "        input.write(line)\n",
        "with open('input.txt', 'r') as input:\n",
        "    for line in input:\n",
        "        print(line.rstrip('\\n'))"
      ]
    },
    {
      "cell_type": "code",
      "execution_count": 18,
      "id": "9756fd4d",
      "metadata": {
        "id": "9756fd4d",
        "colab": {
          "base_uri": "https://localhost:8080/"
        },
        "outputId": "ec590fe9-e6d8-4887-9863-022ba58c62dc"
      },
      "outputs": [
        {
          "output_type": "stream",
          "name": "stdout",
          "text": [
            "3.0\n",
            "None\n"
          ]
        }
      ],
      "source": [
        "# **How would you catch and handle division by zero error in Python**\n",
        "def divbyzero(a, b):\n",
        "    try:\n",
        "        return a / b\n",
        "    except ZeroDivisionError:\n",
        "        return None\n",
        "print(divbyzero(6,2))\n",
        "print(divbyzero(2,0))\n"
      ]
    },
    {
      "cell_type": "code",
      "execution_count": 32,
      "id": "a415de2e",
      "metadata": {
        "id": "a415de2e",
        "colab": {
          "base_uri": "https://localhost:8080/"
        },
        "outputId": "5c33003e-49d3-4741-c2f7-e5f3b67b2a0b"
      },
      "outputs": [
        {
          "output_type": "stream",
          "name": "stderr",
          "text": [
            "ERROR:root:Division by zero: division by zero\n"
          ]
        },
        {
          "output_type": "stream",
          "name": "stdout",
          "text": [
            "None\n"
          ]
        }
      ],
      "source": [
        "# **Write a Python program that logs an error message to a log file when a division by zero exception occurs**\n",
        "import logging\n",
        "logging.basicConfig(filename='error.log', level=logging.ERROR)\n",
        "def divbyzero(a, b):\n",
        "    try:\n",
        "        return a / b\n",
        "    except ZeroDivisionError as e:\n",
        "        logging.error('Division by zero: %s', e)\n",
        "        return None\n",
        "print(divbyzero(2,0))"
      ]
    },
    {
      "cell_type": "code",
      "execution_count": 34,
      "id": "cd484ed6",
      "metadata": {
        "id": "cd484ed6",
        "colab": {
          "base_uri": "https://localhost:8080/"
        },
        "outputId": "b7d12d39-6666-4fad-a1a6-aa0b6ea92e56"
      },
      "outputs": [
        {
          "output_type": "stream",
          "name": "stderr",
          "text": [
            "Info message\n",
            "INFO:example:Info message\n",
            "Warning message\n",
            "WARNING:example:Warning message\n",
            "Error message\n",
            "ERROR:example:Error message\n"
          ]
        }
      ],
      "source": [
        "# **How do you log information at different levels (INFO, ERROR, WARNING) in Python using the logging module**\n",
        "import logging\n",
        "logger = logging.getLogger('example')\n",
        "logger.setLevel(logging.DEBUG)\n",
        "ch = logging.StreamHandler()\n",
        "ch.setLevel(logging.DEBUG)\n",
        "logger.addHandler(ch)\n",
        "logger.info('Info message')\n",
        "logger.warning('Warning message')\n",
        "logger.error('Error message')"
      ]
    },
    {
      "cell_type": "code",
      "execution_count": 35,
      "id": "8bc1e717",
      "metadata": {
        "id": "8bc1e717",
        "colab": {
          "base_uri": "https://localhost:8080/"
        },
        "outputId": "10c61ee5-a637-4a39-d7b9-ad73fde414d5"
      },
      "outputs": [
        {
          "output_type": "stream",
          "name": "stdout",
          "text": [
            "Error opening file: [Errno 2] No such file or directory: 'maybe.txt'\n"
          ]
        }
      ],
      "source": [
        "# **Write a program to handle a file opening error using exception handling**\n",
        "try:\n",
        "    f = open('maybe.txt', 'r', encoding='utf-8')\n",
        "except OSError as e:\n",
        "    print('Error opening file:', e)\n",
        "else:\n",
        "    with f:\n",
        "        data = f.read()"
      ]
    },
    {
      "cell_type": "code",
      "execution_count": 38,
      "id": "d22aeaf8",
      "metadata": {
        "id": "d22aeaf8",
        "colab": {
          "base_uri": "https://localhost:8080/"
        },
        "outputId": "ad76635b-0799-4f6f-89a9-771f9bb0cda9"
      },
      "outputs": [
        {
          "output_type": "stream",
          "name": "stdout",
          "text": [
            "['Hello, world!', 'Goodbye, world!', 'Hello again, world!', 'Goodbye again, world!']\n"
          ]
        }
      ],
      "source": [
        "# **How can you read a file line by line and store its content in a list in Python**\n",
        "lines = []\n",
        "with open('input.txt', 'r', encoding='utf-8') as f:\n",
        "    for line in f:\n",
        "        lines.append(line.rstrip('\\n'))\n",
        "print(lines)"
      ]
    },
    {
      "cell_type": "code",
      "execution_count": 40,
      "id": "ab559c1e",
      "metadata": {
        "id": "ab559c1e",
        "colab": {
          "base_uri": "https://localhost:8080/"
        },
        "outputId": "b1a931da-4d82-4dc1-8962-f00b08838503"
      },
      "outputs": [
        {
          "output_type": "stream",
          "name": "stdout",
          "text": [
            "Hello, world!\n",
            "Goodbye, world!\n",
            "Hello again, world!\n",
            "Goodbye again, world!New entry\n",
            "Another entry\n"
          ]
        }
      ],
      "source": [
        "# **How can you append data to an existing file in Python**\n",
        "with open('output.txt', 'a') as f:\n",
        "    f.write('New entry\\n')\n",
        "    f.write('Another entry\\n')\n",
        "with open('output.txt', 'r') as f:\n",
        "    for line in f:\n",
        "        print(line.rstrip('\\n'))\n"
      ]
    },
    {
      "cell_type": "code",
      "execution_count": 42,
      "id": "373e54c2",
      "metadata": {
        "id": "373e54c2",
        "colab": {
          "base_uri": "https://localhost:8080/"
        },
        "outputId": "970528f3-446e-44b1-80bb-610c5a5147bf"
      },
      "outputs": [
        {
          "output_type": "stream",
          "name": "stdout",
          "text": [
            "None\n"
          ]
        }
      ],
      "source": [
        "# **Write a Python program that uses a try-except block to handle an error when attempting to access a dictionary key that doesn't exist**\n",
        "d = {'a': 1}\n",
        "try:\n",
        "    value = d['b']\n",
        "except KeyError:\n",
        "    value = None\n",
        "\n",
        "print(value)"
      ]
    },
    {
      "cell_type": "code",
      "execution_count": 43,
      "id": "7816ded8",
      "metadata": {
        "id": "7816ded8",
        "colab": {
          "base_uri": "https://localhost:8080/"
        },
        "outputId": "7fbd4bb3-f204-4f24-a950-021ff8009ba7"
      },
      "outputs": [
        {
          "output_type": "stream",
          "name": "stdout",
          "text": [
            "ValueError occurred\n"
          ]
        }
      ],
      "source": [
        "# **Write a program that demonstrates using multiple except blocks to handle different types of exceptions**\n",
        "try:\n",
        "    x = int('abc')\n",
        "    y = 1 / 0\n",
        "except ValueError:\n",
        "    print('ValueError occurred')\n",
        "except ZeroDivisionError:\n",
        "    print('ZeroDivisionError occurred')"
      ]
    },
    {
      "cell_type": "code",
      "execution_count": 45,
      "id": "5ad2a106",
      "metadata": {
        "id": "5ad2a106"
      },
      "outputs": [],
      "source": [
        "# **How would you check if a file exists before attempting to read it in Python**\n",
        "import os\n",
        "if os.path.exists('input.txt'):\n",
        "    with open('input.txt', 'r', encoding='utf-8') as f:\n",
        "        data = f.read()"
      ]
    },
    {
      "cell_type": "code",
      "execution_count": 46,
      "id": "8d25fd86",
      "metadata": {
        "id": "8d25fd86",
        "colab": {
          "base_uri": "https://localhost:8080/"
        },
        "outputId": "d061ad55-bb8e-4048-d9c5-18c0d7baa268"
      },
      "outputs": [
        {
          "output_type": "stream",
          "name": "stderr",
          "text": [
            "ERROR:root:Division by zero occurred\n"
          ]
        }
      ],
      "source": [
        "# **Write a program that uses the logging module to log both informational and error messages**\n",
        "import logging\n",
        "logging.basicConfig(filename='app.log', level=logging.INFO)\n",
        "logging.info('Application started')\n",
        "try:\n",
        "    1/0\n",
        "except ZeroDivisionError:\n",
        "    logging.error('Division by zero occurred')"
      ]
    },
    {
      "cell_type": "code",
      "execution_count": 47,
      "id": "51f1bd88",
      "metadata": {
        "id": "51f1bd88",
        "colab": {
          "base_uri": "https://localhost:8080/"
        },
        "outputId": "99249df1-c622-4659-e622-8f0a793a2b44"
      },
      "outputs": [
        {
          "output_type": "stream",
          "name": "stdout",
          "text": [
            "File is empty or does not exist\n"
          ]
        }
      ],
      "source": [
        "# **Write a Python program that prints the content of a file and handles the case when the file is empty**\n",
        "import os\n",
        "path = 'maybe_empty.txt'\n",
        "if os.path.exists(path) and os.path.getsize(path) > 0:\n",
        "    with open(path, 'r', encoding='utf-8') as f:\n",
        "        print(f.read())\n",
        "else:\n",
        "    print('File is empty or does not exist')"
      ]
    },
    {
      "cell_type": "code",
      "execution_count": 102,
      "id": "4cf2d3fa",
      "metadata": {
        "id": "4cf2d3fa"
      },
      "outputs": [],
      "source": [
        "# **Demonstrate how to use memory profiling to check the memory usage of a small program**\n",
        "def compute():\n",
        "    a = [i for i in range(100000)]\n",
        "    return sum(a)"
      ]
    },
    {
      "cell_type": "code",
      "metadata": {
        "colab": {
          "base_uri": "https://localhost:8080/"
        },
        "id": "569f568d",
        "outputId": "082f1026-dc06-460d-ab4e-95523dac4da0"
      },
      "source": [
        "# Use %memit to measure the memory usage of the compute function\n",
        "%memit compute()"
      ],
      "id": "569f568d",
      "execution_count": 103,
      "outputs": [
        {
          "output_type": "stream",
          "name": "stdout",
          "text": [
            "peak memory: 121.52 MiB, increment: 0.15 MiB\n"
          ]
        }
      ]
    },
    {
      "cell_type": "code",
      "metadata": {
        "colab": {
          "base_uri": "https://localhost:8080/"
        },
        "id": "6d3d5913",
        "outputId": "79ef31c7-76e1-41c8-a763-35a7fb623dd9"
      },
      "source": [
        "# Load the memory_profiler extension\n",
        "%load_ext memory_profiler"
      ],
      "id": "6d3d5913",
      "execution_count": 105,
      "outputs": [
        {
          "output_type": "stream",
          "name": "stdout",
          "text": [
            "The memory_profiler extension is already loaded. To reload it, use:\n",
            "  %reload_ext memory_profiler\n"
          ]
        }
      ]
    },
    {
      "cell_type": "code",
      "metadata": {
        "colab": {
          "base_uri": "https://localhost:8080/"
        },
        "id": "9a5aa8e4",
        "outputId": "2adee865-e8cb-4a76-f1b3-2de299339332"
      },
      "source": [
        "# Install the memory_profiler library\n",
        "!pip install memory_profiler"
      ],
      "id": "9a5aa8e4",
      "execution_count": 97,
      "outputs": [
        {
          "output_type": "stream",
          "name": "stdout",
          "text": [
            "Collecting memory_profiler\n",
            "  Downloading memory_profiler-0.61.0-py3-none-any.whl.metadata (20 kB)\n",
            "Requirement already satisfied: psutil in /usr/local/lib/python3.12/dist-packages (from memory_profiler) (5.9.5)\n",
            "Downloading memory_profiler-0.61.0-py3-none-any.whl (31 kB)\n",
            "Installing collected packages: memory_profiler\n",
            "Successfully installed memory_profiler-0.61.0\n"
          ]
        }
      ]
    },
    {
      "cell_type": "code",
      "execution_count": 96,
      "id": "51b53136",
      "metadata": {
        "id": "51b53136",
        "colab": {
          "base_uri": "https://localhost:8080/"
        },
        "outputId": "57850f44-5d3d-4179-b358-51940543f649"
      },
      "outputs": [
        {
          "output_type": "stream",
          "name": "stdout",
          "text": [
            "Content of numbers.txt:\n",
            "1\n",
            "2\n",
            "3\n",
            "4\n",
            "5\n",
            "\n"
          ]
        }
      ],
      "source": [
        "# **Write a Python program to create and write a list of numbers to a file, one number per line**\n",
        "numbers = [1,2,3,4,5]\n",
        "file_path = 'numbers.txt' # Define file path for clarity\n",
        "\n",
        "with open(file_path, 'w', encoding='utf-8') as f:\n",
        "    for n in numbers:\n",
        "        f.write(f\"{n}\\n\")\n",
        "\n",
        "# Add code to read and print the content of the file to show the output\n",
        "print(f\"Content of {file_path}:\")\n",
        "with open(file_path, 'r', encoding='utf-8') as f:\n",
        "    print(f.read())"
      ]
    },
    {
      "cell_type": "code",
      "execution_count": 53,
      "id": "8f2a6303",
      "metadata": {
        "id": "8f2a6303",
        "colab": {
          "base_uri": "https://localhost:8080/"
        },
        "outputId": "5673bb82-dea7-438e-9ed7-a1f35a089a4a"
      },
      "outputs": [
        {
          "output_type": "stream",
          "name": "stderr",
          "text": [
            "INFO:rotating:Rotating log setup complete\n"
          ]
        }
      ],
      "source": [
        "# **How would you implement a basic logging setup that logs to a file with rotation after 1MB**\n",
        "import logging\n",
        "from logging.handlers import RotatingFileHandler\n",
        "logger = logging.getLogger('rotating')\n",
        "logger.setLevel(logging.INFO)\n",
        "handler = RotatingFileHandler('rot.log', maxBytes=1_000_000, backupCount=3)\n",
        "logger.addHandler(handler)\n",
        "logger.info('Rotating log setup complete')"
      ]
    },
    {
      "cell_type": "code",
      "execution_count": 54,
      "id": "77ec1765",
      "metadata": {
        "id": "77ec1765",
        "colab": {
          "base_uri": "https://localhost:8080/"
        },
        "outputId": "1060e9d7-a5d1-4259-b73e-d5e0f5cb9210"
      },
      "outputs": [
        {
          "output_type": "stream",
          "name": "stdout",
          "text": [
            "IndexError handled\n"
          ]
        }
      ],
      "source": [
        "# **Write a program that handles both IndexError and KeyError using a try-except block**\n",
        "try:\n",
        "    lst = [1,2,3]\n",
        "    x = lst[5]\n",
        "    d = {}\n",
        "    y = d['k']\n",
        "except IndexError:\n",
        "    print('IndexError handled')\n",
        "except KeyError:\n",
        "    print('KeyError handled')"
      ]
    },
    {
      "cell_type": "code",
      "execution_count": 94,
      "id": "e61d462f",
      "metadata": {
        "id": "e61d462f",
        "colab": {
          "base_uri": "https://localhost:8080/"
        },
        "outputId": "48f031de-6e29-4574-ed22-2788820d3207"
      },
      "outputs": [
        {
          "output_type": "stream",
          "name": "stdout",
          "text": [
            "Hello, world!\n",
            "Goodbye, world!\n",
            "Hello again, world!\n",
            "Goodbye again, world!\n"
          ]
        }
      ],
      "source": [
        "# **How would you open a file and read its contents using a context manager in Python**\n",
        "with open('input.txt', 'r') as f:\n",
        "    content = f.read()\n",
        "print(content) # Added print statement to show the output"
      ]
    },
    {
      "cell_type": "code",
      "execution_count": 69,
      "id": "5245eb2b",
      "metadata": {
        "id": "5245eb2b",
        "colab": {
          "base_uri": "https://localhost:8080/"
        },
        "outputId": "ffcc608d-2229-45a5-8b0a-99895edc7d06"
      },
      "outputs": [
        {
          "output_type": "stream",
          "name": "stdout",
          "text": [
            "Hello, world!\n",
            "\n",
            "Goodbye, world!\n",
            "\n",
            "Hello again, world!\n",
            "\n",
            "Goodbye again, world!New entry\n",
            "\n",
            "Another entry\n",
            "\n",
            "2\n"
          ]
        }
      ],
      "source": [
        "# **Write a Python program that reads a file and prints the number of occurrences of a specific word**\n",
        "word = 'entry' # Changed to lowercase to match the lower() call\n",
        "count = 0\n",
        "with open('output.txt', 'r') as f:\n",
        "    for line in f:\n",
        "      print(line)\n",
        "      count += line.lower().split().count(word)\n",
        "print(count)"
      ]
    },
    {
      "cell_type": "code",
      "execution_count": 71,
      "id": "5be87978",
      "metadata": {
        "id": "5be87978",
        "colab": {
          "base_uri": "https://localhost:8080/"
        },
        "outputId": "321770ca-9d47-42ba-a210-103e9757141d"
      },
      "outputs": [
        {
          "output_type": "stream",
          "name": "stdout",
          "text": [
            "File content:\n",
            "Hello, world!\n",
            "Goodbye, world!\n",
            "Hello again, world!\n",
            "Goodbye again, world!\n"
          ]
        }
      ],
      "source": [
        "# **How can you check if a file is empty before attempting to read its contents**\n",
        "import os\n",
        "file_path = 'input.txt' # Define file_path\n",
        "if os.path.exists(file_path) and os.path.getsize(file_path) > 0:\n",
        "    with open(file_path,'r') as f:\n",
        "        data = f.read()\n",
        "        print(\"File content:\") # Add a descriptive message\n",
        "        print(data) # Print the file content\n",
        "else:\n",
        "    print(f\"File '{file_path}' is empty or does not exist.\") # Print a message if the file is empty or doesn't exist"
      ]
    },
    {
      "cell_type": "code",
      "source": [
        "# **Write a Python program that writes to a log file when an error occurs during file handling.**\n",
        "import logging\n",
        "logging.basicConfig(filename='file_errors.log', level=logging.ERROR)\n",
        "try:\n",
        "    with open('somefile.txt','r', encoding='utf-8') as f:\n",
        "        data = f.read()\n",
        "except Exception as e:\n",
        "    logging.error('File handling error: %s', e)\n",
        "with open('file_errors.log', 'r') as f:   #to view log file, code has to run in separate block\n",
        "    print(f.read())"
      ],
      "metadata": {
        "colab": {
          "base_uri": "https://localhost:8080/"
        },
        "id": "E8qTD6wckkiq",
        "outputId": "6be0971b-9a0d-42e2-9440-e84fbd722c82"
      },
      "id": "E8qTD6wckkiq",
      "execution_count": 92,
      "outputs": [
        {
          "output_type": "stream",
          "name": "stderr",
          "text": [
            "ERROR:root:File handling error: [Errno 2] No such file or directory: 'somefile.txt'\n"
          ]
        }
      ]
    }
  ],
  "metadata": {
    "colab": {
      "provenance": [],
      "toc_visible": true,
      "include_colab_link": true
    },
    "language_info": {
      "name": "python"
    },
    "kernelspec": {
      "name": "python3",
      "display_name": "Python 3"
    }
  },
  "nbformat": 4,
  "nbformat_minor": 5
}