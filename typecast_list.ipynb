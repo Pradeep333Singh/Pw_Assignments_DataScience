{
 "cells": [
  {
   "cell_type": "code",
   "execution_count": null,
   "id": "4a654259-0398-4fae-9978-d67d4313181b",
   "metadata": {},
   "outputs": [],
   "source": [
    "#Typecasting in list elements"
   ]
  },
  {
   "cell_type": "code",
   "execution_count": 8,
   "id": "4d9b81c6-8c4c-41af-afc1-7280a680a0ed",
   "metadata": {},
   "outputs": [],
   "source": [
    "#create a demo list\n",
    "demo_list = [1,2,\"A\"]"
   ]
  },
  {
   "cell_type": "code",
   "execution_count": 9,
   "id": "987513e2-20ec-4cc0-b5f0-355694872c74",
   "metadata": {},
   "outputs": [
    {
     "data": {
      "text/plain": [
       "int"
      ]
     },
     "execution_count": 9,
     "metadata": {},
     "output_type": "execute_result"
    }
   ],
   "source": [
    "#print type of 1st element in list\n",
    "type(demo_list[0])"
   ]
  },
  {
   "cell_type": "code",
   "execution_count": 10,
   "id": "aefd1187-9c06-4bc3-a11f-47ecd82bd137",
   "metadata": {},
   "outputs": [
    {
     "data": {
      "text/plain": [
       "int"
      ]
     },
     "execution_count": 10,
     "metadata": {},
     "output_type": "execute_result"
    }
   ],
   "source": [
    "type(demo_list[1])"
   ]
  },
  {
   "cell_type": "code",
   "execution_count": 11,
   "id": "4049f2f7-27cb-4d69-afc6-b14170dbfd74",
   "metadata": {},
   "outputs": [
    {
     "name": "stdout",
     "output_type": "stream",
     "text": [
      "['1', '2']\n"
     ]
    }
   ],
   "source": [
    "#change type from int to str\n",
    "demo_list_int = [str(x) for x in demo_list[0:2]]\n",
    "print(demo_list_int)"
   ]
  },
  {
   "cell_type": "code",
   "execution_count": 12,
   "id": "b695c6d0-321c-4e3b-83d7-897320eb9e93",
   "metadata": {},
   "outputs": [
    {
     "data": {
      "text/plain": [
       "str"
      ]
     },
     "execution_count": 12,
     "metadata": {},
     "output_type": "execute_result"
    }
   ],
   "source": [
    "#print type after typecasting\n",
    "type(demo_list_int[0])"
   ]
  },
  {
   "cell_type": "code",
   "execution_count": 13,
   "id": "1f36fbed-4a95-49db-8f9a-40dfda0eb377",
   "metadata": {},
   "outputs": [
    {
     "data": {
      "text/plain": [
       "str"
      ]
     },
     "execution_count": 13,
     "metadata": {},
     "output_type": "execute_result"
    }
   ],
   "source": [
    "type(demo_list_int[1])"
   ]
  }
 ],
 "metadata": {
  "kernelspec": {
   "display_name": "Python 3 (ipykernel)",
   "language": "python",
   "name": "python3"
  },
  "language_info": {
   "codemirror_mode": {
    "name": "ipython",
    "version": 3
   },
   "file_extension": ".py",
   "mimetype": "text/x-python",
   "name": "python",
   "nbconvert_exporter": "python",
   "pygments_lexer": "ipython3",
   "version": "3.12.5"
  }
 },
 "nbformat": 4,
 "nbformat_minor": 5
}
