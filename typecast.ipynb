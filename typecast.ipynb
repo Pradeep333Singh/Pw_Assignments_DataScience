{
 "cells": [
  {
   "cell_type": "code",
   "execution_count": null,
   "id": "46f911d8-6573-4f98-9556-7e7277005242",
   "metadata": {},
   "outputs": [],
   "source": [
    "#Program to demonstrate typecasting"
   ]
  },
  {
   "cell_type": "code",
   "execution_count": 2,
   "id": "fc666543-b5c7-431b-b3cf-6ab362b2b92e",
   "metadata": {},
   "outputs": [
    {
     "name": "stdin",
     "output_type": "stream",
     "text": [
      "Enter a value: 50\n"
     ]
    }
   ],
   "source": [
    "#Take input from user\n",
    "demo_variable = input(\"Enter a value:\")"
   ]
  },
  {
   "cell_type": "code",
   "execution_count": 3,
   "id": "256e3d1e-b212-4ee7-9d65-af3040a8b61e",
   "metadata": {},
   "outputs": [
    {
     "name": "stdout",
     "output_type": "stream",
     "text": [
      "50\n"
     ]
    }
   ],
   "source": [
    "#Convert the str to int\n",
    "demo_int = int(demo_variable)\n",
    "print(demo_int)"
   ]
  },
  {
   "cell_type": "code",
   "execution_count": 4,
   "id": "bcab5df0-a8e5-4a11-a7a5-5cf138aed699",
   "metadata": {},
   "outputs": [
    {
     "name": "stdout",
     "output_type": "stream",
     "text": [
      "50.0\n"
     ]
    }
   ],
   "source": [
    "#convert int to float\n",
    "demo_float = float(demo_variable)\n",
    "print(demo_float)"
   ]
  },
  {
   "cell_type": "code",
   "execution_count": 5,
   "id": "f8e3eb5e-d8f6-44f6-9014-a03f8a26f045",
   "metadata": {},
   "outputs": [
    {
     "name": "stdout",
     "output_type": "stream",
     "text": [
      "True\n"
     ]
    }
   ],
   "source": [
    "#convert float to Bool\n",
    "demo_bool = bool(demo_variable)\n",
    "print(demo_bool)"
   ]
  }
 ],
 "metadata": {
  "kernelspec": {
   "display_name": "Python 3 (ipykernel)",
   "language": "python",
   "name": "python3"
  },
  "language_info": {
   "codemirror_mode": {
    "name": "ipython",
    "version": 3
   },
   "file_extension": ".py",
   "mimetype": "text/x-python",
   "name": "python",
   "nbconvert_exporter": "python",
   "pygments_lexer": "ipython3",
   "version": "3.12.5"
  }
 },
 "nbformat": 4,
 "nbformat_minor": 5
}
