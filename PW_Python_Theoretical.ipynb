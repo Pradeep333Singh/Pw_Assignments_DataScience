{
 "cells": [
  {
   "cell_type": "code",
   "execution_count": 1,
   "id": "ede30180-9f51-4c81-8128-1b038f67c2de",
   "metadata": {},
   "outputs": [],
   "source": [
    "#Theoretical Questions"
   ]
  },
  {
   "cell_type": "code",
   "execution_count": 2,
   "id": "73fa995f-8ca6-4770-9fc8-81d48476b580",
   "metadata": {},
   "outputs": [],
   "source": [
    "# What is Python, and why is it popular \n",
    "\"\"\"Python is a high-level, interpreted programming language that is easy to read and write.\n",
    "It uses simple English-like syntax, which makes it beginner-friendly.\n",
    "\n",
    "Reasons for Popularity:\n",
    "a. Easy to learn\n",
    "b. cross platform\n",
    "c. Large community support\n",
    "d. Rich libraries\"\"\""
   ]
  },
  {
   "cell_type": "code",
   "execution_count": 4,
   "id": "746c0da7-a3e0-4858-8f8d-ecb4a92d441c",
   "metadata": {},
   "outputs": [
    {
     "data": {
      "text/plain": [
       "'Python is a high-level, interpreted programming language that is easy to read and write.\\nIt uses simple English-like syntax, which makes it beginner-friendly.\\n\\nReasons for Popularity:\\na. Easy to learn\\nb. cross platform\\nc. Large community support\\nd. Rich libraries'"
      ]
     },
     "execution_count": 4,
     "metadata": {},
     "output_type": "execute_result"
    }
   ],
   "source": [
    "#What is an interpreter in Python?\n",
    "\"\"\"An interpreter is a program that reads and executes Python code line by line.\n",
    "Unlike compiled languages (like C++), Python does not need to be compiled before running.\"\"\""
   ]
  },
  {
   "cell_type": "code",
   "execution_count": 5,
   "id": "e08ccad0-89a3-4cbe-b4df-804797f0a61d",
   "metadata": {},
   "outputs": [],
   "source": [
    "#What are pre-defined keywords in Python?\n",
    "\"\"\"Keywords are reserved words in Python that have special meanings.\n",
    "They cannot be used as variable names.\n",
    "Example: if, else, while, for, True, False, class, import etc\"\"\""
   ]
  },
  {
   "cell_type": "code",
   "execution_count": 6,
   "id": "93c16046-0631-4eb8-989a-3744d56e9017",
   "metadata": {},
   "outputs": [
    {
     "data": {
      "text/plain": [
       "'An interpreter is a program that reads and executes Python code line by line.\\nUnlike compiled languages (like C++), Python does not need to be compiled before running.'"
      ]
     },
     "execution_count": 6,
     "metadata": {},
     "output_type": "execute_result"
    }
   ],
   "source": [
    "#Can keywords be used as variable names?\n",
    "\"\"\"No, keywords cannot be used as variable names\"\"\""
   ]
  },
  {
   "cell_type": "code",
   "execution_count": null,
   "id": "4e24a061-be82-4a27-b0e8-04f568c6fc05",
   "metadata": {},
   "outputs": [],
   "source": [
    "#What is mutability in Python?\n",
    "\"\"\"Mutability means whether a data type can be changed after it is created.\n",
    "Mutable objects can be changed. example: List\n",
    "Immutable objects cannot be changed once created. Example: Tuple\"\"\""
   ]
  },
  {
   "cell_type": "code",
   "execution_count": null,
   "id": "ba938538-884d-4d60-8cb4-3d0c318181c1",
   "metadata": {},
   "outputs": [],
   "source": [
    "#Why are lists mutable, but tuples are immutable?\n",
    "\"\"\"Lists are designed to store data that might change (e.g., student marks, shopping items).\n",
    "Hence, they are mutable.\n",
    "\n",
    "Tuples are used to store fixed data (e.g., coordinates, constants).\n",
    "Hence, they are immutable.\"\"\""
   ]
  },
  {
   "cell_type": "code",
   "execution_count": 10,
   "id": "ed18c82b-b5e0-437f-b0fb-de43eb620abd",
   "metadata": {},
   "outputs": [
    {
     "name": "stdout",
     "output_type": "stream",
     "text": [
      "[1, 2, 3, 4]\n"
     ]
    },
    {
     "ename": "TypeError",
     "evalue": "'tuple' object does not support item assignment",
     "output_type": "error",
     "traceback": [
      "\u001b[31m---------------------------------------------------------------------------\u001b[39m",
      "\u001b[31mTypeError\u001b[39m                                 Traceback (most recent call last)",
      "\u001b[36mCell\u001b[39m\u001b[36m \u001b[39m\u001b[32mIn[10]\u001b[39m\u001b[32m, line 5\u001b[39m\n\u001b[32m      3\u001b[39m \u001b[38;5;28mprint\u001b[39m(list1)\n\u001b[32m      4\u001b[39m tup = (\u001b[32m1\u001b[39m, \u001b[32m2\u001b[39m, \u001b[32m3\u001b[39m)\n\u001b[32m----> \u001b[39m\u001b[32m5\u001b[39m \u001b[43mtup\u001b[49m\u001b[43m[\u001b[49m\u001b[32;43m0\u001b[39;49m\u001b[43m]\u001b[49m = \u001b[32m10\u001b[39m\n",
      "\u001b[31mTypeError\u001b[39m: 'tuple' object does not support item assignment"
     ]
    }
   ],
   "source": [
    "list1 = [1, 2, 3]\n",
    "list1.append(4)\n",
    "print(list1)\n",
    "tup = (1, 2, 3)\n",
    "tup[0] = 10"
   ]
  },
  {
   "cell_type": "code",
   "execution_count": null,
   "id": "b17f5b4c-6913-4940-9359-b69300573866",
   "metadata": {},
   "outputs": [],
   "source": [
    "#What is the difference between “==” and “is” operators in Python?\n",
    "\"\"\"       == operator checks if values are equal\n",
    "         is operator checks is two variables point to the same memory location\n",
    "         \"\"\""
   ]
  },
  {
   "cell_type": "code",
   "execution_count": 7,
   "id": "7fd78433-6318-48bd-bcba-43d6b6ebc8a9",
   "metadata": {},
   "outputs": [
    {
     "name": "stdout",
     "output_type": "stream",
     "text": [
      "True\n",
      "False\n"
     ]
    }
   ],
   "source": [
    " a = [1,2]\n",
    " b = [1,2]\n",
    " print (a==b)\n",
    " print(a is b)"
   ]
  },
  {
   "cell_type": "code",
   "execution_count": null,
   "id": "38e9bc8b-1496-4615-bb7c-fbe54483b100",
   "metadata": {},
   "outputs": [],
   "source": [
    "#What are logical operators in Python?\n",
    "\"\"\"Logical operators are used to combine conditions:\n",
    "and: True if both conditions are true.\n",
    "or: True if at least one condition is true.\n",
    "not: Reverses the result.\"\"\""
   ]
  },
  {
   "cell_type": "code",
   "execution_count": 8,
   "id": "d44146aa-ecab-4d8a-8229-34bae5f216db",
   "metadata": {},
   "outputs": [
    {
     "name": "stdout",
     "output_type": "stream",
     "text": [
      "True\n",
      "True\n",
      "False\n"
     ]
    }
   ],
   "source": [
    "x = 5\n",
    "print(x > 3 and x < 10)   # True\n",
    "print(x > 3 or x > 10)    # True\n",
    "print(not(x > 3)) "
   ]
  },
  {
   "cell_type": "code",
   "execution_count": null,
   "id": "8455b3d1-4aa9-45d0-88a4-d0d5e26165be",
   "metadata": {},
   "outputs": [],
   "source": [
    "#What is type casting in Python?\n",
    "\"\"\"Type casting means converting one data type into another.\"\"\""
   ]
  },
  {
   "cell_type": "code",
   "execution_count": 11,
   "id": "64712f35-9c7a-4a27-b164-0f91277270a2",
   "metadata": {},
   "outputs": [
    {
     "name": "stdout",
     "output_type": "stream",
     "text": [
      "<class 'int'>\n"
     ]
    }
   ],
   "source": [
    "a = \"10\"\n",
    "b = int(a)  \n",
    "print(type(b))"
   ]
  },
  {
   "cell_type": "code",
   "execution_count": null,
   "id": "a7d9b860-469f-4a13-9086-607a02e56be5",
   "metadata": {},
   "outputs": [],
   "source": [
    "#What is the difference between implicit and explicit type casting?\n",
    "\"\"\" Implicit casting (Type conversion): Done automatically by Python.\n",
    "    Explicit casting (Type casting): Done manually by the programmer. \"\"\""
   ]
  },
  {
   "cell_type": "code",
   "execution_count": null,
   "id": "a9f2c8d3-4890-4574-a5c0-c7cb8fde6429",
   "metadata": {},
   "outputs": [],
   "source": [
    "#What is the purpose of conditional statements in Python?\n",
    "\"\"\"Conditional statements allow a program to make decisions based on conditions.\n",
    "They control the flow of execution.\"\"\""
   ]
  },
  {
   "cell_type": "code",
   "execution_count": 12,
   "id": "0711791e-9247-4bd9-919b-51ae0a1409dd",
   "metadata": {},
   "outputs": [
    {
     "name": "stdout",
     "output_type": "stream",
     "text": [
      "You can vote\n"
     ]
    }
   ],
   "source": [
    "age = 18\n",
    "if age >= 18:\n",
    "    print(\"You can vote\")\n",
    "else:\n",
    "    print(\"Not eligible\")"
   ]
  },
  {
   "cell_type": "code",
   "execution_count": null,
   "id": "602889d4-cfd8-4871-9fb4-e2b615938891",
   "metadata": {},
   "outputs": [],
   "source": [
    "#How does the elif statement work?\n",
    "\"\"\"elif means else if. It is used when we have multiple conditions to check.\"\"\""
   ]
  },
  {
   "cell_type": "code",
   "execution_count": 13,
   "id": "2fcd90eb-5e60-48ab-8b7f-fb58da44da5c",
   "metadata": {},
   "outputs": [
    {
     "name": "stdout",
     "output_type": "stream",
     "text": [
      "Grade B\n"
     ]
    }
   ],
   "source": [
    "marks = 75\n",
    "if marks >= 90:\n",
    "    print(\"Grade A\")\n",
    "elif marks >= 60:\n",
    "    print(\"Grade B\")\n",
    "else:\n",
    "    print(\"Grade C\")"
   ]
  },
  {
   "cell_type": "code",
   "execution_count": null,
   "id": "c98f4355-05db-4899-8e56-c483cdc8f618",
   "metadata": {},
   "outputs": [],
   "source": [
    "#What is the difference between for and while loops?\n",
    "\"\"\" for loop: Used when we know the number of iterations.\n",
    "    while loop: Used when we don’t know how many times we need to repeat.\"\"\""
   ]
  },
  {
   "cell_type": "code",
   "execution_count": null,
   "id": "1ff86374-50b9-4043-8a87-1cd2b82119ff",
   "metadata": {},
   "outputs": [],
   "source": [
    "#Describe a scenario where a while loop is more suitable than a for loop.\n",
    "\"\"\"A while loop is better when the number of repetitions is unknown and depends on a condition.\"\"\""
   ]
  },
  {
   "cell_type": "code",
   "execution_count": 14,
   "id": "db2972ad-7d46-4c09-9fdb-eeb5c9869124",
   "metadata": {},
   "outputs": [
    {
     "name": "stdin",
     "output_type": "stream",
     "text": [
      "Enter password:  1234\n"
     ]
    },
    {
     "name": "stdout",
     "output_type": "stream",
     "text": [
      "Access granted\n"
     ]
    }
   ],
   "source": [
    "password = \"\"\n",
    "while password != \"1234\":\n",
    "    password = input(\"Enter password: \")\n",
    "print(\"Access granted\")"
   ]
  },
  {
   "cell_type": "code",
   "execution_count": null,
   "id": "814a1915-d305-4a8c-ad7c-b06f73575eae",
   "metadata": {},
   "outputs": [],
   "source": []
  }
 ],
 "metadata": {
  "kernelspec": {
   "display_name": "Python 3 (ipykernel)",
   "language": "python",
   "name": "python3"
  },
  "language_info": {
   "codemirror_mode": {
    "name": "ipython",
    "version": 3
   },
   "file_extension": ".py",
   "mimetype": "text/x-python",
   "name": "python",
   "nbconvert_exporter": "python",
   "pygments_lexer": "ipython3",
   "version": "3.12.5"
  }
 },
 "nbformat": 4,
 "nbformat_minor": 5
}
