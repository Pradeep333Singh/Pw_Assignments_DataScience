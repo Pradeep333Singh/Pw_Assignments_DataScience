{
 "cells": [
  {
   "cell_type": "code",
   "execution_count": 1,
   "id": "e96cb6ad-e6f9-4375-b605-ea95349489c7",
   "metadata": {},
   "outputs": [],
   "source": [
    "# program to demonstrate the behavior of mutable and immutable arguments."
   ]
  },
  {
   "cell_type": "code",
   "execution_count": 2,
   "id": "b94b5616-1f3e-43e9-a45f-2e111b71f784",
   "metadata": {},
   "outputs": [],
   "source": [
    "#create a list\n",
    "list1 = [\"A\",1,\"B\",2,\"C\",3];"
   ]
  },
  {
   "cell_type": "code",
   "execution_count": 3,
   "id": "b4e3bb69-1834-4397-bed9-94d26f2ca645",
   "metadata": {},
   "outputs": [],
   "source": [
    "#create a tuple\n",
    "tuple1 = (\"A\",1,\"B\",2,\"C\",3);"
   ]
  },
  {
   "cell_type": "code",
   "execution_count": 4,
   "id": "7cb64702-6f9d-4590-8f93-e7288197ae00",
   "metadata": {},
   "outputs": [
    {
     "name": "stdout",
     "output_type": "stream",
     "text": [
      "['A', 1, 'B', 2, 'C', 3, 'D']\n"
     ]
    }
   ],
   "source": [
    "#add element in a list using append\n",
    "list1.append(\"D\")\n",
    "print(list1)"
   ]
  },
  {
   "cell_type": "code",
   "execution_count": 5,
   "id": "1d857a7c-d145-44ca-928e-8a88877e52c8",
   "metadata": {},
   "outputs": [
    {
     "ename": "AttributeError",
     "evalue": "'tuple' object has no attribute 'append'",
     "output_type": "error",
     "traceback": [
      "\u001b[31m---------------------------------------------------------------------------\u001b[39m",
      "\u001b[31mAttributeError\u001b[39m                            Traceback (most recent call last)",
      "\u001b[36mCell\u001b[39m\u001b[36m \u001b[39m\u001b[32mIn[5]\u001b[39m\u001b[32m, line 1\u001b[39m\n\u001b[32m----> \u001b[39m\u001b[32m1\u001b[39m \u001b[43mtuple1\u001b[49m\u001b[43m.\u001b[49m\u001b[43mappend\u001b[49m(\u001b[33m\"\u001b[39m\u001b[33mD\u001b[39m\u001b[33m\"\u001b[39m)\n\u001b[32m      2\u001b[39m \u001b[38;5;28mprint\u001b[39m(tuple1)\n",
      "\u001b[31mAttributeError\u001b[39m: 'tuple' object has no attribute 'append'"
     ]
    }
   ],
   "source": [
    "tuple1.append(\"D\")\n",
    "print(tuple1)"
   ]
  },
  {
   "cell_type": "code",
   "execution_count": null,
   "id": "f5a029ff-8adb-467d-92a3-bc7487d0731f",
   "metadata": {},
   "outputs": [],
   "source": []
  }
 ],
 "metadata": {
  "kernelspec": {
   "display_name": "Python 3 (ipykernel)",
   "language": "python",
   "name": "python3"
  },
  "language_info": {
   "codemirror_mode": {
    "name": "ipython",
    "version": 3
   },
   "file_extension": ".py",
   "mimetype": "text/x-python",
   "name": "python",
   "nbconvert_exporter": "python",
   "pygments_lexer": "ipython3",
   "version": "3.12.5"
  }
 },
 "nbformat": 4,
 "nbformat_minor": 5
}
