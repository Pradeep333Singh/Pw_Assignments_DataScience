{
 "cells": [
  {
   "cell_type": "code",
   "execution_count": 1,
   "id": "71b12940-dae8-4601-a28b-d9f39dd44459",
   "metadata": {},
   "outputs": [],
   "source": [
    "#program to demonstrate the mutability of list and tuple"
   ]
  },
  {
   "cell_type": "code",
   "execution_count": 2,
   "id": "51a4dbad-3f4f-4553-a8e0-82725d84c9dd",
   "metadata": {},
   "outputs": [],
   "source": [
    "#declare a list and a tuple\n",
    "list1 = [\"Name\", \"Age\", \"Qualification\"]\n",
    "tuple1 = (\"Name\", \"Age\", \"Qualification\")"
   ]
  },
  {
   "cell_type": "code",
   "execution_count": 3,
   "id": "3e7c79ab-0866-4180-8330-3996555a0d00",
   "metadata": {},
   "outputs": [
    {
     "name": "stdout",
     "output_type": "stream",
     "text": [
      "['Name', 'Age', 'Qualification', 'Nationality']\n"
     ]
    }
   ],
   "source": [
    "list1.append(\"Nationality\")\n",
    "print(list1)"
   ]
  },
  {
   "cell_type": "code",
   "execution_count": 4,
   "id": "f2408ff4-0def-4989-bd74-2eff1ffb8129",
   "metadata": {},
   "outputs": [
    {
     "ename": "AttributeError",
     "evalue": "'tuple' object has no attribute 'append'",
     "output_type": "error",
     "traceback": [
      "\u001b[31m---------------------------------------------------------------------------\u001b[39m",
      "\u001b[31mAttributeError\u001b[39m                            Traceback (most recent call last)",
      "\u001b[36mCell\u001b[39m\u001b[36m \u001b[39m\u001b[32mIn[4]\u001b[39m\u001b[32m, line 1\u001b[39m\n\u001b[32m----> \u001b[39m\u001b[32m1\u001b[39m \u001b[43mtuple1\u001b[49m\u001b[43m.\u001b[49m\u001b[43mappend\u001b[49m(\u001b[33m\"\u001b[39m\u001b[33mNationality\u001b[39m\u001b[33m\"\u001b[39m)\n\u001b[32m      2\u001b[39m \u001b[38;5;28mprint\u001b[39m(tuple1)\n",
      "\u001b[31mAttributeError\u001b[39m: 'tuple' object has no attribute 'append'"
     ]
    }
   ],
   "source": [
    "tuple1.append(\"Nationality\")\n",
    "print(tuple1)"
   ]
  },
  {
   "cell_type": "code",
   "execution_count": 6,
   "id": "dded3d44-0cd7-4293-b152-937140edf097",
   "metadata": {},
   "outputs": [
    {
     "name": "stdout",
     "output_type": "stream",
     "text": [
      "['Name', 'Age', 'Gender', 'Qualification', 'Nationality']\n"
     ]
    }
   ],
   "source": [
    "list1.insert(2,\"Gender\")\n",
    "print(list1)"
   ]
  },
  {
   "cell_type": "code",
   "execution_count": 7,
   "id": "64684b3b-2880-46d7-9b09-70e0694b9bb8",
   "metadata": {},
   "outputs": [
    {
     "ename": "AttributeError",
     "evalue": "'tuple' object has no attribute 'insert'",
     "output_type": "error",
     "traceback": [
      "\u001b[31m---------------------------------------------------------------------------\u001b[39m",
      "\u001b[31mAttributeError\u001b[39m                            Traceback (most recent call last)",
      "\u001b[36mCell\u001b[39m\u001b[36m \u001b[39m\u001b[32mIn[7]\u001b[39m\u001b[32m, line 1\u001b[39m\n\u001b[32m----> \u001b[39m\u001b[32m1\u001b[39m \u001b[43mtuple1\u001b[49m\u001b[43m.\u001b[49m\u001b[43minsert\u001b[49m(\u001b[32m2\u001b[39m,\u001b[33m\"\u001b[39m\u001b[33mGender\u001b[39m\u001b[33m\"\u001b[39m)\n\u001b[32m      2\u001b[39m \u001b[38;5;28mprint\u001b[39m(tuple1)\n",
      "\u001b[31mAttributeError\u001b[39m: 'tuple' object has no attribute 'insert'"
     ]
    }
   ],
   "source": [
    "tuple1.insert(2,\"Gender\")\n",
    "print(tuple1)"
   ]
  },
  {
   "cell_type": "code",
   "execution_count": 8,
   "id": "a0a86c83-b7a6-4f2d-9e13-5b32984523a3",
   "metadata": {},
   "outputs": [],
   "source": [
    "#we cannot directly add element in tuple, but we can create a new tuple and combine old tuple with new element."
   ]
  },
  {
   "cell_type": "code",
   "execution_count": 20,
   "id": "3a7ea93d-1608-4ef4-9ef7-83bf352fb553",
   "metadata": {},
   "outputs": [],
   "source": [
    "tuple2 = (\"Nationality\",)"
   ]
  },
  {
   "cell_type": "code",
   "execution_count": 21,
   "id": "cec49dd1-2de6-456a-843b-95797852ecd2",
   "metadata": {},
   "outputs": [],
   "source": [
    "tuple3 = tuple1 + tuple2"
   ]
  },
  {
   "cell_type": "code",
   "execution_count": 22,
   "id": "09025927-a018-46db-926f-a754f7e465e8",
   "metadata": {},
   "outputs": [
    {
     "name": "stdout",
     "output_type": "stream",
     "text": [
      "('Name', 'Age', 'Qualification', 'Nationality')\n"
     ]
    }
   ],
   "source": [
    "print(tuple3)"
   ]
  },
  {
   "cell_type": "code",
   "execution_count": null,
   "id": "b788b64c-8274-4bb3-98a0-db14f8ba3a20",
   "metadata": {},
   "outputs": [],
   "source": [
    "#we can also convert tuple to alist, edit it and then convert it back to tuple."
   ]
  }
 ],
 "metadata": {
  "kernelspec": {
   "display_name": "Python 3 (ipykernel)",
   "language": "python",
   "name": "python3"
  },
  "language_info": {
   "codemirror_mode": {
    "name": "ipython",
    "version": 3
   },
   "file_extension": ".py",
   "mimetype": "text/x-python",
   "name": "python",
   "nbconvert_exporter": "python",
   "pygments_lexer": "ipython3",
   "version": "3.12.5"
  }
 },
 "nbformat": 4,
 "nbformat_minor": 5
}
