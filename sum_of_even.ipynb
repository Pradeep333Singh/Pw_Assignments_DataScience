{
 "cells": [
  {
   "cell_type": "code",
   "execution_count": 1,
   "id": "3091d5ad-189b-4bfc-9576-4c9bf2881622",
   "metadata": {},
   "outputs": [],
   "source": [
    "#Sum of even numbers between 1 and n"
   ]
  },
  {
   "cell_type": "code",
   "execution_count": 13,
   "id": "36ce4335-7763-4d66-89d9-e4fb5f015aec",
   "metadata": {},
   "outputs": [
    {
     "name": "stdin",
     "output_type": "stream",
     "text": [
      "Enter a number:  50\n"
     ]
    }
   ],
   "source": [
    "#Take the user input\n",
    "num = int(input(\"Enter a number: \"))"
   ]
  },
  {
   "cell_type": "code",
   "execution_count": 14,
   "id": "147c834c-b219-47f0-83b3-d1ba4f757eaa",
   "metadata": {},
   "outputs": [],
   "source": [
    "#initialsie variable sum = 0\n",
    "sum = 0"
   ]
  },
  {
   "cell_type": "code",
   "execution_count": 15,
   "id": "b6926643-7acd-4779-b386-1b974e2a772a",
   "metadata": {},
   "outputs": [],
   "source": [
    "#find the sum of even numbers using while loop\n",
    "i = num\n",
    "while (i > 0):\n",
    "    if (i % 2 == 0):\n",
    "        sum += i\n",
    "    i -= 1"
   ]
  },
  {
   "cell_type": "code",
   "execution_count": 18,
   "id": "4b746fcb-1beb-4200-921c-c241cfead02a",
   "metadata": {},
   "outputs": [
    {
     "name": "stdout",
     "output_type": "stream",
     "text": [
      "Sum of even numbers between 1 and  50 is 650\n"
     ]
    }
   ],
   "source": [
    "#print the sum of even numbers\n",
    "print(\"Sum of even numbers between 1 and  {:d} is {:d}\".format(num,sum))"
   ]
  },
  {
   "cell_type": "code",
   "execution_count": null,
   "id": "b568337f-65d7-4385-ba08-568d1285caff",
   "metadata": {},
   "outputs": [],
   "source": []
  }
 ],
 "metadata": {
  "kernelspec": {
   "display_name": "Python 3 (ipykernel)",
   "language": "python",
   "name": "python3"
  },
  "language_info": {
   "codemirror_mode": {
    "name": "ipython",
    "version": 3
   },
   "file_extension": ".py",
   "mimetype": "text/x-python",
   "name": "python",
   "nbconvert_exporter": "python",
   "pygments_lexer": "ipython3",
   "version": "3.12.5"
  }
 },
 "nbformat": 4,
 "nbformat_minor": 5
}
