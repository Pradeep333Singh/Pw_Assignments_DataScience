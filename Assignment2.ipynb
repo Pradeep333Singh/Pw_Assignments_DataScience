{
 "cells": [
  {
   "cell_type": "code",
   "execution_count": 62,
   "id": "131c787c-0cf7-4149-8648-7e2622187a5c",
   "metadata": {},
   "outputs": [],
   "source": [
    "#Data types and Structures Questions"
   ]
  },
  {
   "cell_type": "code",
   "execution_count": null,
   "id": "052a823c-8a2a-4ff0-b4d4-87363ef7de8a",
   "metadata": {},
   "outputs": [],
   "source": [
    "#1. What are data structures, and why are they important?\n",
    "\"\"\"Data structures are ways to store and organize data so we can use it efficiently.\n",
    "They let us add, remove, or look up data quickly, which makes programs faster and easier to write.\"\"\""
   ]
  },
  {
   "cell_type": "code",
   "execution_count": null,
   "id": "b415740b-af54-44f1-8f77-531b0490f743",
   "metadata": {},
   "outputs": [],
   "source": [
    "#2. Difference between mutable and immutable data types with examples.\n",
    "\"\"\"Mutable types can change after creation.\n",
    "Example: list.\n",
    "\n",
    "Immutable types cannot change.\n",
    "Example: tuple\"\"\""
   ]
  },
  {
   "cell_type": "code",
   "execution_count": null,
   "id": "8be9cbc2-9861-48c0-a1ef-8d2ede8f5559",
   "metadata": {},
   "outputs": [],
   "source": [
    "#3. Main differences between lists and tuples in Python\n",
    "\"\"\"Lists use brackets [], tuples use parentheses ().\n",
    "Lists are mutable, tuples are immutable.\"\"\""
   ]
  },
  {
   "cell_type": "code",
   "execution_count": null,
   "id": "1ea6f6a8-2edd-4079-ad6b-35b2352f8f7e",
   "metadata": {},
   "outputs": [],
   "source": [
    "#4. Describe how dictionaries store data.\n",
    "\"\"\"Dictionaries store data as key–value pairs.\n",
    "They use a hash table so you can look up a value by its key very quickly.\"\"\""
   ]
  },
  {
   "cell_type": "code",
   "execution_count": null,
   "id": "a1eebfd5-7214-450b-8d07-447ab5a8aa10",
   "metadata": {},
   "outputs": [],
   "source": [
    "#5. Why might you use a set instead of a list in Python?\n",
    "\"\"\"Sets automatically remove duplicates and let you check membership faster than lists when you have many items.\"\"\""
   ]
  },
  {
   "cell_type": "code",
   "execution_count": null,
   "id": "6bb49c54-4478-4204-8bad-b3f7de378c4b",
   "metadata": {},
   "outputs": [],
   "source": [
    "#6. What is a string in Python, and how is it different from a list?\n",
    "\"\"\"A string is a sequence of characters and is immutable.\n",
    "A list is a sequence of any objects and is mutable.\"\"\""
   ]
  },
  {
   "cell_type": "code",
   "execution_count": null,
   "id": "84b6b551-758a-4071-b7a7-8da221f1e4ba",
   "metadata": {},
   "outputs": [],
   "source": [
    "#7. How do tuples ensure data integrity in Python?\n",
    "\"\"\"Tuples are immutable, so once created their contents cannot be changed, protecting the data from accidental modification.\"\"\""
   ]
  },
  {
   "cell_type": "code",
   "execution_count": null,
   "id": "dc5f351f-40ca-4d60-9242-3dfd81602faa",
   "metadata": {},
   "outputs": [],
   "source": [
    "#8. What is a hash table, and how does it relate to dictionaries in Python?\n",
    "\"\"\"A hash table maps keys to values using a hash function.\n",
    "Python’s dictionary uses a hash table for fast key lookups.\"\"\""
   ]
  },
  {
   "cell_type": "code",
   "execution_count": null,
   "id": "03e994fc-8b0f-4d85-9a1a-10f19c88868f",
   "metadata": {},
   "outputs": [],
   "source": [
    "#9. Can lists contain different data types in Python?\n",
    "\"\"\"Yes. A list can hold ints, strings, objects, even other lists.\"\"\""
   ]
  },
  {
   "cell_type": "code",
   "execution_count": null,
   "id": "3ed98115-5c98-48f0-9143-26dd91149d0a",
   "metadata": {},
   "outputs": [],
   "source": [
    "#10. Explain why strings are immutable in Python.\n",
    "\"\"\"Immutable strings allow Python to optimize memory and reuse string objects safely without unexpected changes.\"\"\""
   ]
  },
  {
   "cell_type": "code",
   "execution_count": null,
   "id": "41ac20d7-14b0-4e1b-a94d-e94b4cc43f83",
   "metadata": {},
   "outputs": [],
   "source": [
    "#11. What advantages do dictionaries offer over lists for certain tasks?\n",
    "\"\"\"Fast lookup by key, Clear mapping between keys and values, No need to search index by index.\"\"\""
   ]
  },
  {
   "cell_type": "code",
   "execution_count": null,
   "id": "71e47e19-04b0-42fb-b4df-daacf12eb037",
   "metadata": {},
   "outputs": [],
   "source": [
    "#12. Describe a scenario where using a tuple would be preferable over a list.\n",
    "\"\"\"When you have fixed data that should not change, like coordinates (x, y), adhaar card number, or a record of a date (year, month, day).\"\"\""
   ]
  },
  {
   "cell_type": "code",
   "execution_count": null,
   "id": "c66c1b89-01c2-49a1-9b7e-477adc34c973",
   "metadata": {},
   "outputs": [],
   "source": [
    "#13. How do sets handle duplicate values in Python?\n",
    "\"\"\"Sets automatically discard duplicates, keeping only one copy of each value.\"\"\""
   ]
  },
  {
   "cell_type": "code",
   "execution_count": null,
   "id": "35b6aaa4-4ec0-4d4c-af61-4e9c9c78fca0",
   "metadata": {},
   "outputs": [],
   "source": [
    "#14. How does the in keyword work differently for lists and dictionaries?\n",
    "\"\"\"For lists, x in list checks each element until it finds a match.\n",
    "For dictionaries, key in dictionary checks directly in the hash table.\"\"\""
   ]
  },
  {
   "cell_type": "code",
   "execution_count": null,
   "id": "ff3d0fb4-3974-456c-ad43-4063f7820c7f",
   "metadata": {},
   "outputs": [],
   "source": [
    "#15. Can you modify the elements of a tuple? Explain why or why not.\n",
    "\"\"\"No. Tuples are immutable.\n",
    "You cannot change, add, or remove elements once the tuple is created.\"\"\""
   ]
  },
  {
   "cell_type": "code",
   "execution_count": null,
   "id": "deb17ceb-54b9-400f-825c-593b3d2f8b97",
   "metadata": {},
   "outputs": [],
   "source": [
    "#16. What is a nested dictionary, and give an example of its use case?\n",
    "\"\"\"A nested dictionary has dictionaries inside another dictionary.\n",
    "Example:\n",
    "students = {\n",
    "    \"Alice\": {\"age\": 20, \"major\": \"Math\"},\n",
    "    \"Bob\":   {\"age\": 22, \"major\": \"Physics\"}\n",
    "}\"\"\""
   ]
  },
  {
   "cell_type": "code",
   "execution_count": null,
   "id": "a01dd1a3-bc1b-4b9c-8894-df064f9bfc0d",
   "metadata": {},
   "outputs": [],
   "source": [
    "#17. Describe the time complexity of accessing elements in a dictionary.\n",
    "\"\"\"On average, O(1) – constant time lookups by key\"\"\""
   ]
  },
  {
   "cell_type": "code",
   "execution_count": null,
   "id": "71e31ca4-1100-49d9-bc12-351e1a6b8ff6",
   "metadata": {},
   "outputs": [],
   "source": [
    "#18. In what situations are lists preferred over dictionaries?\n",
    "\"\"\"1. When order matters and you need positional access.\n",
    "2. When you need to store duplicate items.\n",
    "3. When you iterate over elements in sequence.\"\"\""
   ]
  },
  {
   "cell_type": "code",
   "execution_count": null,
   "id": "b0c51164-c2d9-4212-be86-0ab273359eb7",
   "metadata": {},
   "outputs": [],
   "source": [
    "#19. Why are dictionaries considered unordered, and how does that affect data retrieval?\n",
    "\"\"\"Dictionary is an unordered collection of object because the insertion order of elements is not same as the order in which the elements are stored.\n",
    "The elements are access by key, not by position.\"\"\""
   ]
  },
  {
   "cell_type": "code",
   "execution_count": null,
   "id": "e52a1167-f43a-4968-a0f0-4125a774b784",
   "metadata": {},
   "outputs": [],
   "source": [
    "#20. Difference between a list and a dictionary in terms of data retrieval.\n",
    "\"\"\"List: retrieve by index. one must know the index position.\n",
    "Dictionary: retrieve by key. Knowing index is not important\"\"\""
   ]
  },
  {
   "cell_type": "code",
   "execution_count": null,
   "id": "f0f2a54c-6922-46a1-984e-1be0a7c3a56c",
   "metadata": {},
   "outputs": [],
   "source": []
  },
  {
   "cell_type": "code",
   "execution_count": 1,
   "id": "0927d00b-12a2-48dd-94a7-824887a67c05",
   "metadata": {},
   "outputs": [],
   "source": [
    "#Practical Questions"
   ]
  },
  {
   "cell_type": "code",
   "execution_count": 2,
   "id": "df6e8389-728c-424d-a752-33341240fe16",
   "metadata": {},
   "outputs": [],
   "source": [
    "#1. Write a code to create a string with your name and print it."
   ]
  },
  {
   "cell_type": "code",
   "execution_count": 7,
   "id": "55065ecb-9cf7-4a7d-9755-d3162b6b139e",
   "metadata": {},
   "outputs": [
    {
     "name": "stdout",
     "output_type": "stream",
     "text": [
      "Hello, Pradeep Singh\n"
     ]
    }
   ],
   "source": [
    "name = \"Pradeep Singh\"\n",
    "print(\"Hello,\",name)"
   ]
  },
  {
   "cell_type": "code",
   "execution_count": 8,
   "id": "fe23bd6e-a288-4cd7-8088-c36119a61e96",
   "metadata": {},
   "outputs": [],
   "source": [
    "#2. Write a code to find the length of the string \"hello World\"."
   ]
  },
  {
   "cell_type": "code",
   "execution_count": 9,
   "id": "9bb6a550-c727-4736-8b2c-b41f66d029cb",
   "metadata": {},
   "outputs": [
    {
     "name": "stdout",
     "output_type": "stream",
     "text": [
      "11\n"
     ]
    }
   ],
   "source": [
    "print(len(\"Hello World\"))"
   ]
  },
  {
   "cell_type": "code",
   "execution_count": 10,
   "id": "28980418-380d-4596-85ab-83f09315810c",
   "metadata": {},
   "outputs": [],
   "source": [
    "#3. Write a code to slice the first 3 characters from the string \"Python Programming\"."
   ]
  },
  {
   "cell_type": "code",
   "execution_count": 11,
   "id": "509cb6c1-a5f2-464d-99bd-96337b09d051",
   "metadata": {},
   "outputs": [
    {
     "name": "stdout",
     "output_type": "stream",
     "text": [
      "Pyt\n"
     ]
    }
   ],
   "source": [
    "word = \"Python Programming\"\n",
    "print(word[:3])"
   ]
  },
  {
   "cell_type": "code",
   "execution_count": 12,
   "id": "d5c59d05-dfb3-44d0-a221-684b20998c4c",
   "metadata": {},
   "outputs": [],
   "source": [
    "#4. Write a code to convert string \"hello\" to upper case."
   ]
  },
  {
   "cell_type": "code",
   "execution_count": 13,
   "id": "4ccd398e-8950-420c-ad5b-abdb6ba10910",
   "metadata": {},
   "outputs": [
    {
     "name": "stdout",
     "output_type": "stream",
     "text": [
      "HELLO\n"
     ]
    }
   ],
   "source": [
    "word = \"hello\"\n",
    "print(word.upper())"
   ]
  },
  {
   "cell_type": "code",
   "execution_count": 14,
   "id": "a32514e1-edb5-488e-96fd-053499ecd992",
   "metadata": {},
   "outputs": [],
   "source": [
    "#5. Write a code to replace the word \"apple\" with \"orange\" in the string \"I like apple\"."
   ]
  },
  {
   "cell_type": "code",
   "execution_count": 15,
   "id": "b547c99a-d960-4c53-9571-fa9a05bfb9bf",
   "metadata": {},
   "outputs": [
    {
     "name": "stdout",
     "output_type": "stream",
     "text": [
      "I like orange\n"
     ]
    }
   ],
   "source": [
    "string1 = \"I like apple\"\n",
    "print(string1.replace(\"apple\",\"orange\"))"
   ]
  },
  {
   "cell_type": "code",
   "execution_count": 16,
   "id": "41cb9bab-87be-4d93-886b-360752293165",
   "metadata": {},
   "outputs": [],
   "source": [
    "#6. Write a code to create a list with numbers 1 to 5 and print it."
   ]
  },
  {
   "cell_type": "code",
   "execution_count": 25,
   "id": "56f5d2d0-b180-4eab-a2b3-669f7efa801b",
   "metadata": {},
   "outputs": [
    {
     "name": "stdout",
     "output_type": "stream",
     "text": [
      "[1, 2, 3, 4, 5]\n"
     ]
    }
   ],
   "source": [
    "list1 = list(range(1,6))\n",
    "print(list1)"
   ]
  },
  {
   "cell_type": "code",
   "execution_count": 26,
   "id": "67d5d70b-7ce2-481d-9ea8-7b1fd7907d98",
   "metadata": {},
   "outputs": [],
   "source": [
    "#7. Write a code to append the number 10 to the list [1,2,3,4]"
   ]
  },
  {
   "cell_type": "code",
   "execution_count": 27,
   "id": "fd1a652a-8ec4-427b-be15-fa0ba8745a30",
   "metadata": {},
   "outputs": [
    {
     "name": "stdout",
     "output_type": "stream",
     "text": [
      "[1, 2, 3, 4, 10]\n"
     ]
    }
   ],
   "source": [
    "list2 = [1,2,3,4]\n",
    "list2.append(10)\n",
    "print(list2)"
   ]
  },
  {
   "cell_type": "code",
   "execution_count": 28,
   "id": "940344bd-fb9d-47ec-9668-258535da8bc6",
   "metadata": {},
   "outputs": [],
   "source": [
    "#8. Write a code to remove the number 3 from the list [1,2,3,4,5]"
   ]
  },
  {
   "cell_type": "code",
   "execution_count": 29,
   "id": "fb84270e-8b32-4234-815b-e7d37bbf83f5",
   "metadata": {},
   "outputs": [
    {
     "name": "stdout",
     "output_type": "stream",
     "text": [
      "[1, 2, 4, 5]\n"
     ]
    }
   ],
   "source": [
    "list3 = [1,2,3,4,5]\n",
    "list3.remove(3)\n",
    "print(list3)"
   ]
  },
  {
   "cell_type": "code",
   "execution_count": 30,
   "id": "5ac30b08-203a-4336-8f9f-35be1359fbab",
   "metadata": {},
   "outputs": [],
   "source": [
    "#9. Write a code to access the second element in the list ['a','b','c','d']"
   ]
  },
  {
   "cell_type": "code",
   "execution_count": 31,
   "id": "ed9247ed-2168-4847-bbbd-0b6736cc3a4e",
   "metadata": {},
   "outputs": [
    {
     "name": "stdout",
     "output_type": "stream",
     "text": [
      "b\n"
     ]
    }
   ],
   "source": [
    "list4 = ['a','b','c','d']\n",
    "print(list4[1])"
   ]
  },
  {
   "cell_type": "code",
   "execution_count": 32,
   "id": "815cea30-d2f5-4c00-9869-a25aa3b009e4",
   "metadata": {},
   "outputs": [],
   "source": [
    "#10. Write a code to reverse the list [10,20,30,40,50]"
   ]
  },
  {
   "cell_type": "code",
   "execution_count": 37,
   "id": "cb753c14-71cc-456d-8249-2c089fea3adc",
   "metadata": {},
   "outputs": [
    {
     "name": "stdout",
     "output_type": "stream",
     "text": [
      "[50, 40, 30, 20, 10]\n"
     ]
    }
   ],
   "source": [
    "list5 = [10,20,30,40,50]\n",
    "print(list5[::-1])"
   ]
  },
  {
   "cell_type": "code",
   "execution_count": 40,
   "id": "18166413-b4e0-4867-8130-428b55710ecd",
   "metadata": {},
   "outputs": [],
   "source": [
    "#11. Write a code to create a tuple with the elements 100, 200, 300 and print  it."
   ]
  },
  {
   "cell_type": "code",
   "execution_count": 41,
   "id": "e689bfe8-5e94-4844-822e-186d5f5d6bae",
   "metadata": {},
   "outputs": [
    {
     "name": "stdout",
     "output_type": "stream",
     "text": [
      "(100, 200, 300)\n"
     ]
    }
   ],
   "source": [
    "tuple1 = (100,200,300)\n",
    "print(tuple1)"
   ]
  },
  {
   "cell_type": "code",
   "execution_count": 42,
   "id": "a5227617-9d21-497a-8369-19442e8f898e",
   "metadata": {},
   "outputs": [],
   "source": [
    "#12.  write a code to access the second to last element of the tuple (\"red\",\"green\",\"blue\",\"yellow\")"
   ]
  },
  {
   "cell_type": "code",
   "execution_count": 45,
   "id": "7fb49f46-2172-4eaf-b743-1ffe1c151c38",
   "metadata": {},
   "outputs": [
    {
     "name": "stdout",
     "output_type": "stream",
     "text": [
      "blue\n"
     ]
    }
   ],
   "source": [
    "tuple2 = (\"red\",\"green\",\"blue\",\"yellow\")\n",
    "print(tuple2[-2])"
   ]
  },
  {
   "cell_type": "code",
   "execution_count": 46,
   "id": "7d645e1c-8334-43e5-b21c-04f4f6866068",
   "metadata": {},
   "outputs": [],
   "source": [
    "#13. Write a code to find the minimum number in the tuple (10,20,5,15)"
   ]
  },
  {
   "cell_type": "code",
   "execution_count": 47,
   "id": "0f6984db-28f5-413d-9a5d-8e3f088fc3fb",
   "metadata": {},
   "outputs": [
    {
     "name": "stdout",
     "output_type": "stream",
     "text": [
      "5\n"
     ]
    }
   ],
   "source": [
    "tuple3 = (10,20,5,15)\n",
    "print(min(tuple3))"
   ]
  },
  {
   "cell_type": "code",
   "execution_count": 48,
   "id": "d990df8c-e4d6-4f31-9dc2-d03c88c6511d",
   "metadata": {},
   "outputs": [],
   "source": [
    "#14. Write a code to find the index of the element \"cat\" in the tuple (\"dog\",\"cat\",\"rabbit\")"
   ]
  },
  {
   "cell_type": "code",
   "execution_count": 51,
   "id": "6f0a865d-24cc-44bb-b419-345c58bac9e0",
   "metadata": {},
   "outputs": [
    {
     "name": "stdout",
     "output_type": "stream",
     "text": [
      "1\n"
     ]
    }
   ],
   "source": [
    "tuple4 = (\"dog\", \"cat\", \"rabbit\")\n",
    "i = tuple4.index(\"cat\")\n",
    "print(i)"
   ]
  },
  {
   "cell_type": "code",
   "execution_count": 1,
   "id": "87eb455e-196d-4e05-8b2c-bd19b73593b8",
   "metadata": {},
   "outputs": [],
   "source": [
    "#15. Write a code to create a tuple containing three different fruits and check if \"kiwi\" is in it."
   ]
  },
  {
   "cell_type": "code",
   "execution_count": 5,
   "id": "d812bba6-76f1-4f1c-bb92-e0ae70fe20e4",
   "metadata": {},
   "outputs": [
    {
     "name": "stdout",
     "output_type": "stream",
     "text": [
      "kiwi in fruits\n"
     ]
    }
   ],
   "source": [
    "fruits = (\"Apple\",\"Mango\",\"Kiwi\")\n",
    "search_word = \"kiwi\"\n",
    "if any(fruit.lower() in search_word.lower() for fruit in fruits):    #case-insensitive comparison\n",
    "    print(\"kiwi in fruits\")\n",
    "else:\n",
    "    print(\"kiwi not in fruits\")"
   ]
  },
  {
   "cell_type": "code",
   "execution_count": 6,
   "id": "dd324179-2e96-408e-8178-6ef253005a87",
   "metadata": {},
   "outputs": [],
   "source": [
    "#16. Write a code to create a set with the elements 'a', 'b', 'c' and print it."
   ]
  },
  {
   "cell_type": "code",
   "execution_count": 8,
   "id": "ae0b28f7-f494-4e6e-ab00-49281ef0fb59",
   "metadata": {},
   "outputs": [
    {
     "name": "stdout",
     "output_type": "stream",
     "text": [
      "{'b', 'a', 'c'}\n"
     ]
    }
   ],
   "source": [
    "set1 = {'a','b','c'}\n",
    "print(set1)"
   ]
  },
  {
   "cell_type": "code",
   "execution_count": 9,
   "id": "81f46e93-3c1f-452d-999f-06bf1574ae3e",
   "metadata": {},
   "outputs": [],
   "source": [
    "#17. Wite a code to clear all the elements from the set {1,2,3,4,5}"
   ]
  },
  {
   "cell_type": "code",
   "execution_count": 12,
   "id": "c5571637-a458-40b7-89b0-784b2814f31d",
   "metadata": {},
   "outputs": [
    {
     "name": "stdout",
     "output_type": "stream",
     "text": [
      "set()\n"
     ]
    }
   ],
   "source": [
    "set2 = {1,2,3,4,5}\n",
    "set2.clear()\n",
    "print(set2)"
   ]
  },
  {
   "cell_type": "code",
   "execution_count": 13,
   "id": "92f07e3b-2bce-4519-8ec5-dc03678c928a",
   "metadata": {},
   "outputs": [],
   "source": [
    "#18. Write a code to remove the elemnt 4 from the set {1,2,3,4}"
   ]
  },
  {
   "cell_type": "code",
   "execution_count": 15,
   "id": "2b3e1ed9-b1e0-45d7-ab54-a48ab098417d",
   "metadata": {},
   "outputs": [
    {
     "name": "stdout",
     "output_type": "stream",
     "text": [
      "{1, 2, 3, 4}\n",
      "{1, 2, 3}\n"
     ]
    }
   ],
   "source": [
    "set3 = {1,2,3,4}\n",
    "print(set3)\n",
    "set3.remove(4)\n",
    "print(set3)"
   ]
  },
  {
   "cell_type": "code",
   "execution_count": 16,
   "id": "debc1dd3-6949-4816-9154-6e7eb4c4c28b",
   "metadata": {},
   "outputs": [],
   "source": [
    "#19. Write a code to find the union of two sets {1,2,3} and {3,4,5}"
   ]
  },
  {
   "cell_type": "code",
   "execution_count": 19,
   "id": "16d7a283-0564-4e5e-b997-bc9bad9b1939",
   "metadata": {},
   "outputs": [
    {
     "name": "stdout",
     "output_type": "stream",
     "text": [
      "{1, 2, 3}\n",
      "{1, 2, 3}\n",
      "Union of sets is {1, 2, 3, 4, 5}\n"
     ]
    }
   ],
   "source": [
    "set4 = {1,2,3}\n",
    "print(set3)\n",
    "set5={3,4,5}\n",
    "print(set4)\n",
    "print(\"Union of sets is\", set3.union(set5))"
   ]
  },
  {
   "cell_type": "code",
   "execution_count": 20,
   "id": "cc95a426-7142-42b9-9640-6069737aecfc",
   "metadata": {},
   "outputs": [],
   "source": [
    "#20. Write a code to find the intersection of two sets {1,2,3} and {2,3,4}"
   ]
  },
  {
   "cell_type": "code",
   "execution_count": 21,
   "id": "8825a46d-2c40-40d5-b22e-4cd99cef8afe",
   "metadata": {},
   "outputs": [
    {
     "name": "stdout",
     "output_type": "stream",
     "text": [
      "{1, 2, 3}\n",
      "{2, 3, 4}\n",
      "Intersection of sets is {2, 3}\n"
     ]
    }
   ],
   "source": [
    "set6 = {1,2,3}\n",
    "print(set6)\n",
    "set7 = {2,3,4}\n",
    "print(set7)\n",
    "print(\"Intersection of sets is\", set6.intersection(set7))"
   ]
  },
  {
   "cell_type": "code",
   "execution_count": 23,
   "id": "e4124712-b587-41ef-a215-9d1279b918e3",
   "metadata": {},
   "outputs": [],
   "source": [
    "#21. Write a code to create dictionary with keys \"name\", \"age\", and \"city\" and print it"
   ]
  },
  {
   "cell_type": "code",
   "execution_count": 24,
   "id": "a695e743-0675-4cfb-8a9c-6279da775340",
   "metadata": {},
   "outputs": [
    {
     "name": "stdout",
     "output_type": "stream",
     "text": [
      "{'name': 'Pradeep Singh', 'age': 33, 'city': 'Udhampur'}\n"
     ]
    }
   ],
   "source": [
    "dict1 = {\"name\":\"Pradeep Singh\", \"age\":33, \"city\":\"Udhampur\"}\n",
    "print(dict1)"
   ]
  },
  {
   "cell_type": "code",
   "execution_count": 25,
   "id": "eff37a37-e168-4a90-ab79-913f72cae569",
   "metadata": {},
   "outputs": [],
   "source": [
    "#22. Write a code to create a new key-value pair \"country\":\"USA\" to the disctionary {'name':'John', 'age':25}"
   ]
  },
  {
   "cell_type": "code",
   "execution_count": 26,
   "id": "5e55c24f-b9fe-4d94-9627-5d031f23c920",
   "metadata": {},
   "outputs": [
    {
     "name": "stdout",
     "output_type": "stream",
     "text": [
      "{'name': 'John', 'age': 25}\n",
      "{'name': 'John', 'age': 25, 'country': 'USA'}\n"
     ]
    }
   ],
   "source": [
    "dict2 = {'name':'John', 'age':25}\n",
    "print(dict2)\n",
    "dict2['country'] = 'USA'\n",
    "print(dict2)"
   ]
  },
  {
   "cell_type": "code",
   "execution_count": 27,
   "id": "b20ec83a-11c2-4b8e-a100-c448b2502fba",
   "metadata": {},
   "outputs": [],
   "source": [
    "#23. Write a code to access the value associated twith the key \"name\" in the dictionary {'name':'Alice','age':30}"
   ]
  },
  {
   "cell_type": "code",
   "execution_count": 28,
   "id": "fb1e7350-6828-411a-9eef-707b901c0c20",
   "metadata": {},
   "outputs": [
    {
     "name": "stdout",
     "output_type": "stream",
     "text": [
      "Alice\n"
     ]
    }
   ],
   "source": [
    "dict3 = {'name':'Alice','age':30}\n",
    "print(dict3['name'])"
   ]
  },
  {
   "cell_type": "code",
   "execution_count": 29,
   "id": "4c13f042-bf64-4220-9b5b-ca0940aed0ac",
   "metadata": {},
   "outputs": [],
   "source": [
    "#24. Write a code to remove the key \"age\" from the dictionary"
   ]
  },
  {
   "cell_type": "code",
   "execution_count": 34,
   "id": "b676d6b4-afce-49ba-b07e-6b8ccd0d9f24",
   "metadata": {},
   "outputs": [
    {
     "name": "stdout",
     "output_type": "stream",
     "text": [
      "{'name': 'Bob', 'age': 22, 'city': 'New York'}\n",
      "{'name': 'Bob', 'city': 'New York'}\n"
     ]
    }
   ],
   "source": [
    "dict4 = {'name':'Bob', 'age':22, 'city':'New York'}\n",
    "print(dict4)\n",
    "del dict4['age']\n",
    "print(dict4)"
   ]
  },
  {
   "cell_type": "code",
   "execution_count": 35,
   "id": "5241116f-1c21-4c8e-a272-961ed01511ef",
   "metadata": {},
   "outputs": [],
   "source": [
    "#25. Write a code to check if the key \"city\" exists in the dictionary {'name':\"Alice\", 'city':\"Paris\"}"
   ]
  },
  {
   "cell_type": "code",
   "execution_count": 36,
   "id": "729cb7e8-e3c3-49fd-b97a-0c9e2cf2d6c6",
   "metadata": {},
   "outputs": [
    {
     "name": "stdout",
     "output_type": "stream",
     "text": [
      "Key 'city' exists in the dictionary\n"
     ]
    }
   ],
   "source": [
    "dict5 = {'name':\"Alice\", 'city':\"Paris\"}\n",
    "\n",
    "if \"city\" in dict5:\n",
    "    print(\"Key 'city' exists in the dictionary\")\n",
    "else:\n",
    "    print(\"Key 'city' does not exist in the dictionary\")"
   ]
  },
  {
   "cell_type": "code",
   "execution_count": 37,
   "id": "e9b05843-8c4c-4d59-a8f5-cb9bd7501d9d",
   "metadata": {},
   "outputs": [],
   "source": [
    "#26. Write a code to create a list, a tuple, and a dictionary and print them all"
   ]
  },
  {
   "cell_type": "code",
   "execution_count": 39,
   "id": "fa10deab-cfc9-422d-9138-640417558596",
   "metadata": {},
   "outputs": [
    {
     "name": "stdout",
     "output_type": "stream",
     "text": [
      "List: ['Name', 'age', 'city', 2, 4, 6]\n",
      "Tuple: (4, 4, 5, 5, 6, 6)\n",
      "Dictionary: {'x': 7, 'y': 8, 'z': 9}\n"
     ]
    }
   ],
   "source": [
    "list26 = ['Name', 'age', 'city', 2, 4, 6]\n",
    "tuple26 = (4, 4, 5, 5, 6, 6)\n",
    "dict26 = {\"x\": 7, \"y\": 8, \"z\": 9}\n",
    "\n",
    "# Print all three\n",
    "print(f\"List: {list26}\")\n",
    "print(f\"Tuple: {tuple26}\")\n",
    "print(f\"Dictionary: {dict26}\")"
   ]
  },
  {
   "cell_type": "code",
   "execution_count": 40,
   "id": "e82ec5bb-6650-4b2e-a7ed-bfdde4cac59d",
   "metadata": {},
   "outputs": [],
   "source": [
    "#27. Write a code to crate a list of 5 random numbers between 1 and 100, sort it in ascending order and print the result"
   ]
  },
  {
   "cell_type": "code",
   "execution_count": 46,
   "id": "cd63b4bc-e1cd-46f3-b994-10c20e8f9d6d",
   "metadata": {},
   "outputs": [
    {
     "name": "stdout",
     "output_type": "stream",
     "text": [
      "[3, 2, 6, 3, 8, 10]\n",
      "sorted list [2, 3, 3, 6, 8, 10]\n"
     ]
    }
   ],
   "source": [
    "import random\n",
    "list27 = []\n",
    "for i in range(6):\n",
    "    list27.append(random.randint(1,10))         #using random module to generate random numbers\n",
    "print(list27)\n",
    "list27.sort()                             #Sorting the list in ascending order\n",
    "print(\"sorted list\", list27)"
   ]
  },
  {
   "cell_type": "code",
   "execution_count": 47,
   "id": "e10c88d8-a407-442e-8104-d507b30a3004",
   "metadata": {},
   "outputs": [],
   "source": [
    "#28. Write a code to create a list with strings and print the element at the third index"
   ]
  },
  {
   "cell_type": "code",
   "execution_count": 49,
   "id": "c5083694-c880-4f20-9604-dddaa0651e94",
   "metadata": {},
   "outputs": [
    {
     "name": "stdout",
     "output_type": "stream",
     "text": [
      "Date\n"
     ]
    }
   ],
   "source": [
    "list28 = [\"Apple\", \"Banana\", \"Cherry\", \"Date\", \"Elderberry\"]\n",
    "print(list28[3])"
   ]
  },
  {
   "cell_type": "code",
   "execution_count": 50,
   "id": "d04fa219-d3a6-4ca6-b312-bd3561f558d8",
   "metadata": {},
   "outputs": [],
   "source": [
    "#29. Write a code to combine two disctionaries into one and print the result"
   ]
  },
  {
   "cell_type": "code",
   "execution_count": 60,
   "id": "c9eeb897-7706-4da6-8348-a12bb7cb9405",
   "metadata": {},
   "outputs": [
    {
     "name": "stdout",
     "output_type": "stream",
     "text": [
      "{'a': 1, 'b': 2}\n",
      "{'c': 3, 'd': 4}\n",
      "Combined list: {'a': 1, 'b': 2, 'c': 3, 'd': 4}\n"
     ]
    }
   ],
   "source": [
    "dict29 = {\"a\": 1, \"b\": 2}\n",
    "dict30 = {\"c\": 3, \"d\": 4}\n",
    "print(dict29)\n",
    "print(dict30)\n",
    "\n",
    "dict29.update(dict30)          #update disctionary29 with dictionary 30\n",
    "print(\"Combined list:\",dict29)"
   ]
  },
  {
   "cell_type": "code",
   "execution_count": 51,
   "id": "0285be55-4c63-486c-b59e-b7527c6b2030",
   "metadata": {},
   "outputs": [],
   "source": [
    "#30. Write a code to convert a list of strings into a set"
   ]
  },
  {
   "cell_type": "code",
   "execution_count": 61,
   "id": "90ef4d7b-9d2b-406f-bcb8-c7edf109e9a8",
   "metadata": {},
   "outputs": [
    {
     "name": "stdout",
     "output_type": "stream",
     "text": [
      "['Apple', 'Banana', 'Cherry', 'Date', 'Elderberry', 'Banana']\n",
      "{'Elderberry', 'Date', 'Cherry', 'Banana', 'Apple'}\n"
     ]
    }
   ],
   "source": [
    "list30 = [\"Apple\", \"Banana\", \"Cherry\", \"Date\", \"Elderberry\",\"Banana\"]\n",
    "print(list30)\n",
    "set30 = set(list30)    #convert list to set\n",
    "print(set30)"
   ]
  }
 ],
 "metadata": {
  "kernelspec": {
   "display_name": "Python 3 (ipykernel)",
   "language": "python",
   "name": "python3"
  },
  "language_info": {
   "codemirror_mode": {
    "name": "ipython",
    "version": 3
   },
   "file_extension": ".py",
   "mimetype": "text/x-python",
   "name": "python",
   "nbconvert_exporter": "python",
   "pygments_lexer": "ipython3",
   "version": "3.12.5"
  }
 },
 "nbformat": 4,
 "nbformat_minor": 5
}
