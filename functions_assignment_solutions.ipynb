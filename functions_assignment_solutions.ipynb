{
  "cells": [
    {
      "cell_type": "markdown",
      "metadata": {
        "id": "view-in-github",
        "colab_type": "text"
      },
      "source": [
        "<a href=\"https://colab.research.google.com/github/Pradeep333Singh/Pw_Assignments_DataScience/blob/main/functions_assignment_solutions.ipynb\" target=\"_parent\"><img src=\"https://colab.research.google.com/assets/colab-badge.svg\" alt=\"Open In Colab\"/></a>"
      ]
    },
    {
      "cell_type": "markdown",
      "id": "6f9d86ba",
      "metadata": {
        "id": "6f9d86ba"
      },
      "source": [
        "# 📘 Functions Assignment – Solutions"
      ]
    },
    {
      "cell_type": "markdown",
      "id": "2a881ca5",
      "metadata": {
        "id": "2a881ca5"
      },
      "source": [
        "## 📝 Theory Questions"
      ]
    },
    {
      "cell_type": "markdown",
      "id": "a9982876",
      "metadata": {
        "id": "a9982876"
      },
      "source": [
        "### **Q1. Difference between a function and a method in Python**\n",
        "\n",
        "A **function** is a block of code defined using `def` that performs a task.\n",
        "\n",
        "A **method** is a function defined inside a class and works on object data.\n",
        "\n",
        "```python\n",
        "# Function\n",
        "def add(a, b):\n",
        "    return a + b\n",
        "\n",
        "# Method\n",
        "class Calculator:\n",
        "    def multiply(self, x, y):\n",
        "        return x * y\n",
        "\n",
        "print(add(2, 3))                # Function\n",
        "print(Calculator().multiply(2,3))  # Method\n",
        "```"
      ]
    },
    {
      "cell_type": "markdown",
      "id": "38153be9",
      "metadata": {
        "id": "38153be9"
      },
      "source": [
        "### **Q2. Function arguments and parameters in Python**\n",
        "\n",
        "Parameters are variables inside the function definition, while arguments are the actual values passed.\n",
        "\n",
        "```python\n",
        "def greet(name):   # name is parameter\n",
        "    print('Hello', name)\n",
        "\n",
        "greet('Pradeep')  # 'Pradeep' is argument\n",
        "```"
      ]
    },
    {
      "cell_type": "markdown",
      "id": "ac9aaa37",
      "metadata": {
        "id": "ac9aaa37"
      },
      "source": [
        "### **Q3. Ways to define and call a function**\n",
        "\n",
        "You can define using `def` or `lambda`. Call with positional, keyword, default, `*args`, `**kwargs`.\n",
        "\n",
        "```python\n",
        "def add(a=2, b=3):\n",
        "    return a + b\n",
        "\n",
        "print(add())       # default\n",
        "print(add(5,6))    # arguments\n",
        "```"
      ]
    },
    {
      "cell_type": "markdown",
      "id": "d279e9b1",
      "metadata": {
        "id": "d279e9b1"
      },
      "source": [
        "### **Q4. Purpose of `return` statement**\n",
        "\n",
        "It returns a value from the function to the caller.\n",
        "\n",
        "```python\n",
        "def square(n):\n",
        "    return n*n\n",
        "\n",
        "print(square(5))\n",
        "```"
      ]
    },
    {
      "cell_type": "markdown",
      "id": "457f52bc",
      "metadata": {
        "id": "457f52bc"
      },
      "source": [
        "### **Q5. Iterators vs Iterables**\n",
        "\n",
        "Iterable: list, tuple, string. Iterator: object with `__next__()`.\n",
        "\n",
        "```python\n",
        "nums = [1,2,3]\n",
        "it = iter(nums)\n",
        "print(next(it))\n",
        "```"
      ]
    },
    {
      "cell_type": "markdown",
      "id": "a591eb6b",
      "metadata": {
        "id": "a591eb6b"
      },
      "source": [
        "### **Q6. Generators in Python**\n",
        "\n",
        "Functions that yield values one at a time using `yield`.\n",
        "\n",
        "```python\n",
        "def countdown(n):\n",
        "    while n>0:\n",
        "        yield n\n",
        "        n-=1\n",
        "```"
      ]
    },
    {
      "cell_type": "markdown",
      "id": "5ec44890",
      "metadata": {
        "id": "5ec44890"
      },
      "source": [
        "### **Q7. Advantages of Generators**\n",
        "\n",
        "- Memory efficient\n",
        "- Lazy evaluation\n",
        "- Easy iterator creation"
      ]
    },
    {
      "cell_type": "markdown",
      "id": "fad7e0e8",
      "metadata": {
        "id": "fad7e0e8"
      },
      "source": [
        "### **Q8. Lambda functions**\n",
        "\n",
        "Anonymous one-line functions.\n",
        "\n",
        "```python\n",
        "square = lambda x: x*x\n",
        "print(square(5))\n",
        "```"
      ]
    },
    {
      "cell_type": "markdown",
      "id": "cd65aa2b",
      "metadata": {
        "id": "cd65aa2b"
      },
      "source": [
        "### **Q9. Purpose of `map()`**\n",
        "\n",
        "Applies a function to all items of iterable.\n",
        "\n",
        "```python\n",
        "nums=[1,2,3]\n",
        "print(list(map(lambda x:x*x, nums)))\n",
        "```"
      ]
    },
    {
      "cell_type": "markdown",
      "id": "ec61816f",
      "metadata": {
        "id": "ec61816f"
      },
      "source": [
        "### **Q10. Difference between map, reduce, filter**\n",
        "\n",
        "- `map`: transforms\n",
        "- `filter`: selects\n",
        "- `reduce`: accumulates\n",
        "\n",
        "```python\n",
        "from functools import reduce\n",
        "nums=[1,2,3,4]\n",
        "print(list(map(lambda x:x*2, nums)))\n",
        "print(list(filter(lambda x:x%2==0, nums)))\n",
        "print(reduce(lambda a,b:a+b, nums))\n",
        "```"
      ]
    },
    {
      "cell_type": "markdown",
      "id": "8a1ec644",
      "metadata": {
        "id": "8a1ec644"
      },
      "source": [
        "### **Q11. Internal mechanism of reduce on [47,11,42,13]**\n",
        "\n",
        "Stepwise sum:\n",
        "- (47+11)=58\n",
        "- (58+42)=100\n",
        "- (100+13)=113"
      ]
    },
    {
      "cell_type": "markdown",
      "id": "1bfd8b22",
      "metadata": {
        "id": "1bfd8b22"
      },
      "source": [
        "##  **Practical Questions**"
      ]
    },
    {
      "cell_type": "markdown",
      "id": "5fda73e0",
      "metadata": {
        "id": "5fda73e0"
      },
      "source": [
        "### **Q1. Sum of even numbers**"
      ]
    },
    {
      "cell_type": "code",
      "source": [
        "def sum_even(nums):\n",
        "    return sum(x for x in nums if x%2==0)\n",
        "\n",
        "print(sum_even([1,2,3,4,5,6]))"
      ],
      "metadata": {
        "colab": {
          "base_uri": "https://localhost:8080/"
        },
        "id": "MNe902a2hrcW",
        "outputId": "41172a58-2b16-40dd-a591-e6ef2c089b21"
      },
      "id": "MNe902a2hrcW",
      "execution_count": 1,
      "outputs": [
        {
          "output_type": "stream",
          "name": "stdout",
          "text": [
            "12\n"
          ]
        }
      ]
    },
    {
      "cell_type": "markdown",
      "id": "0df5c7e0",
      "metadata": {
        "id": "0df5c7e0"
      },
      "source": [
        "### **Q2. Reverse string**"
      ]
    },
    {
      "cell_type": "code",
      "source": [
        "def reverse_string(s):\n",
        "    return s[::-1]\n",
        "\n",
        "print(reverse_string(\"hello\"))"
      ],
      "metadata": {
        "colab": {
          "base_uri": "https://localhost:8080/"
        },
        "id": "nyicYaoHh5jW",
        "outputId": "39cf4939-49c1-4331-c0a9-6bcdb536e833"
      },
      "id": "nyicYaoHh5jW",
      "execution_count": 2,
      "outputs": [
        {
          "output_type": "stream",
          "name": "stdout",
          "text": [
            "olleh\n"
          ]
        }
      ]
    },
    {
      "cell_type": "markdown",
      "id": "01c3a336",
      "metadata": {
        "id": "01c3a336"
      },
      "source": [
        "### **Q3. Squares list**"
      ]
    },
    {
      "cell_type": "code",
      "source": [
        "def square_list(nums):\n",
        "    return [x**2 for x in nums]\n",
        "\n",
        "print(square_list([1,2,3,4]))"
      ],
      "metadata": {
        "colab": {
          "base_uri": "https://localhost:8080/"
        },
        "id": "vxoQKF7fiAql",
        "outputId": "f776a905-1098-459e-edb0-f11b820d43dc"
      },
      "id": "vxoQKF7fiAql",
      "execution_count": 3,
      "outputs": [
        {
          "output_type": "stream",
          "name": "stdout",
          "text": [
            "[1, 4, 9, 16]\n"
          ]
        }
      ]
    },
    {
      "cell_type": "markdown",
      "id": "ee843193",
      "metadata": {
        "id": "ee843193"
      },
      "source": [
        "### **Q4. Prime check 1-200**"
      ]
    },
    {
      "cell_type": "code",
      "source": [
        "def is_prime(n):\n",
        "    if n<2: return False\n",
        "    for i in range(2, int(n**0.5)+1):\n",
        "        if n%i==0: return False\n",
        "    return True\n",
        "\n",
        "primes = [n for n in range(1,201) if is_prime(n)]\n",
        "print(primes)"
      ],
      "metadata": {
        "colab": {
          "base_uri": "https://localhost:8080/"
        },
        "id": "ZTsBsek0iFjV",
        "outputId": "501f2b45-da98-483f-9701-482fa486a85d"
      },
      "id": "ZTsBsek0iFjV",
      "execution_count": 4,
      "outputs": [
        {
          "output_type": "stream",
          "name": "stdout",
          "text": [
            "[2, 3, 5, 7, 11, 13, 17, 19, 23, 29, 31, 37, 41, 43, 47, 53, 59, 61, 67, 71, 73, 79, 83, 89, 97, 101, 103, 107, 109, 113, 127, 131, 137, 139, 149, 151, 157, 163, 167, 173, 179, 181, 191, 193, 197, 199]\n"
          ]
        }
      ]
    },
    {
      "cell_type": "markdown",
      "id": "c0783603",
      "metadata": {
        "id": "c0783603"
      },
      "source": [
        "### **Q5. Fibonacci iterator class**\n"
      ]
    },
    {
      "cell_type": "code",
      "source": [
        "class Fibonacci:\n",
        "    def __init__(self, n):\n",
        "        self.n = n       # how many terms to produce\n",
        "        self.a, self.b = 0, 1\n",
        "        self.count = 0\n",
        "\n",
        "    def __iter__(self):\n",
        "        return self\n",
        "\n",
        "    def __next__(self):\n",
        "        if self.count < self.n:\n",
        "            value = self.a\n",
        "            self.a, self.b = self.b, self.a + self.b\n",
        "            self.count += 1\n",
        "            return value\n",
        "        else:\n",
        "            raise StopIteration\n",
        "\n",
        "print(list(Fibonacci(15)))"
      ],
      "metadata": {
        "colab": {
          "base_uri": "https://localhost:8080/"
        },
        "id": "jKIwCNCSjEbt",
        "outputId": "abaec702-3225-4745-b985-aef8151752df"
      },
      "id": "jKIwCNCSjEbt",
      "execution_count": 9,
      "outputs": [
        {
          "output_type": "stream",
          "name": "stdout",
          "text": [
            "[0, 1, 1, 2, 3, 5, 8, 13, 21, 34, 55, 89, 144, 233, 377]\n"
          ]
        }
      ]
    },
    {
      "cell_type": "markdown",
      "id": "348d1cb0",
      "metadata": {
        "id": "348d1cb0"
      },
      "source": [
        "### **Q6. Powers of 2 generator**\n"
      ]
    },
    {
      "cell_type": "code",
      "source": [
        "def powers_of_two(exp):\n",
        "    for i in range(exp+1):\n",
        "        yield 2**i\n",
        "\n",
        "print(list(powers_of_two(5)))"
      ],
      "metadata": {
        "colab": {
          "base_uri": "https://localhost:8080/"
        },
        "id": "FIfV4U-xpbFC",
        "outputId": "5f225536-8484-46ca-e0b9-7d66470eaef0"
      },
      "id": "FIfV4U-xpbFC",
      "execution_count": 10,
      "outputs": [
        {
          "output_type": "stream",
          "name": "stdout",
          "text": [
            "[1, 2, 4, 8, 16, 32]\n"
          ]
        }
      ]
    },
    {
      "cell_type": "markdown",
      "id": "24185b33",
      "metadata": {
        "id": "24185b33"
      },
      "source": [
        "### **Q7. File line generator**\n"
      ]
    },
    {
      "cell_type": "code",
      "source": [
        "def read_file(filename):\n",
        "    with open(filename) as f:\n",
        "        for line in f:\n",
        "            yield line.strip()"
      ],
      "metadata": {
        "id": "JlwHMN8ZqBVp"
      },
      "id": "JlwHMN8ZqBVp",
      "execution_count": 11,
      "outputs": []
    },
    {
      "cell_type": "markdown",
      "id": "21eef4a9",
      "metadata": {
        "id": "21eef4a9"
      },
      "source": [
        "### **Q8. Sort tuples by second element**\n"
      ]
    },
    {
      "cell_type": "code",
      "source": [
        "data=[(1,3),(2,1),(3,2)]\n",
        "sorted_data=sorted(data, key=lambda x:x[1])\n",
        "print(sorted_data)"
      ],
      "metadata": {
        "colab": {
          "base_uri": "https://localhost:8080/"
        },
        "id": "ncu61QXhqHBS",
        "outputId": "f2397145-29af-4cbc-c12d-927b8515650c"
      },
      "id": "ncu61QXhqHBS",
      "execution_count": 12,
      "outputs": [
        {
          "output_type": "stream",
          "name": "stdout",
          "text": [
            "[(2, 1), (3, 2), (1, 3)]\n"
          ]
        }
      ]
    },
    {
      "cell_type": "markdown",
      "id": "ff6b22ea",
      "metadata": {
        "id": "ff6b22ea"
      },
      "source": [
        "### **Q9. Celsius to Fahrenheit using map**\n",
        "\n"
      ]
    },
    {
      "cell_type": "code",
      "source": [
        "temps=[0,20,30,40]\n",
        "fahrenheit=list(map(lambda c:(c*9/5)+32, temps))\n",
        "print(fahrenheit)"
      ],
      "metadata": {
        "colab": {
          "base_uri": "https://localhost:8080/"
        },
        "id": "fzwDXuhvqym1",
        "outputId": "d21c103b-0944-48cb-9cb8-cbb58fe5eb25"
      },
      "id": "fzwDXuhvqym1",
      "execution_count": 13,
      "outputs": [
        {
          "output_type": "stream",
          "name": "stdout",
          "text": [
            "[32.0, 68.0, 86.0, 104.0]\n"
          ]
        }
      ]
    },
    {
      "cell_type": "markdown",
      "id": "64ca7764",
      "metadata": {
        "id": "64ca7764"
      },
      "source": [
        "### **Q10. Remove vowels with filter**\n"
      ]
    },
    {
      "cell_type": "code",
      "source": [
        "s=\"Hello World\"\n",
        "result=''.join(filter(lambda x:x.lower() not in 'aeiou', s))\n",
        "print(result)"
      ],
      "metadata": {
        "colab": {
          "base_uri": "https://localhost:8080/"
        },
        "id": "Qudkshzwq_CN",
        "outputId": "1b248d37-f6d7-488c-b335-be86866fc7b2"
      },
      "id": "Qudkshzwq_CN",
      "execution_count": 15,
      "outputs": [
        {
          "output_type": "stream",
          "name": "stdout",
          "text": [
            "Hll Wrld\n"
          ]
        }
      ]
    },
    {
      "cell_type": "markdown",
      "id": "b664dffc",
      "metadata": {
        "id": "b664dffc"
      },
      "source": [
        "### **Q11. Bookshop accounting with lambda+map**\n"
      ]
    },
    {
      "cell_type": "code",
      "source": [
        "orders=[\n",
        "    [34587, \"Learning Python\", 4, 40.95],\n",
        "    [98762, \"Programming in C\", 5, 56.80],\n",
        "    [77226, \"Data Science\", 3, 32.95],\n",
        "    [88112, \"Machine Learning\", 3, 24.99]\n",
        "]\n",
        "\n",
        "result=list(map(lambda x:(x[0], x[2]*x[3] if x[2]*x[3]>=100 else x[2]*x[3]+10), orders))\n",
        "print(result)"
      ],
      "metadata": {
        "colab": {
          "base_uri": "https://localhost:8080/"
        },
        "id": "8lxidCEpuH8r",
        "outputId": "b333afa6-15f6-4bf7-a99d-99438ef4da42"
      },
      "id": "8lxidCEpuH8r",
      "execution_count": 16,
      "outputs": [
        {
          "output_type": "stream",
          "name": "stdout",
          "text": [
            "[(34587, 163.8), (98762, 284.0), (77226, 108.85000000000001), (88112, 84.97)]\n"
          ]
        }
      ]
    }
  ],
  "metadata": {
    "colab": {
      "provenance": [],
      "include_colab_link": true
    },
    "language_info": {
      "name": "python"
    },
    "kernelspec": {
      "name": "python3",
      "display_name": "Python 3"
    }
  },
  "nbformat": 4,
  "nbformat_minor": 5
}