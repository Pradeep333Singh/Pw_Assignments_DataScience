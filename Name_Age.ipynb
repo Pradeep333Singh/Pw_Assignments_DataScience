{
 "cells": [
  {
   "cell_type": "code",
   "execution_count": 1,
   "id": "8584ff18-bb57-4bfd-aafa-0ff02de31982",
   "metadata": {},
   "outputs": [
    {
     "name": "stdin",
     "output_type": "stream",
     "text": [
      "Enter your name:  as\n",
      "Enter your age:  as\n"
     ]
    },
    {
     "name": "stdout",
     "output_type": "stream",
     "text": [
      "Name:  as\n",
      "Age:  as\n"
     ]
    }
   ],
   "source": [
    "#Program to display your name and age"
   ]
  },
  {
   "cell_type": "code",
   "execution_count": 2,
   "id": "9eaea5cb-78cd-4e80-93bd-7017fc8c4a80",
   "metadata": {},
   "outputs": [
    {
     "name": "stdin",
     "output_type": "stream",
     "text": [
      "Enter your name:  Pradeep\n"
     ]
    }
   ],
   "source": [
    "#Ask user to input his name\n",
    "name = input(\"Enter your name: \" )"
   ]
  },
  {
   "cell_type": "code",
   "execution_count": 3,
   "id": "3345fcbf-8784-45d0-839b-347230e1960f",
   "metadata": {},
   "outputs": [
    {
     "name": "stdin",
     "output_type": "stream",
     "text": [
      "Enter your age:  33\n"
     ]
    }
   ],
   "source": [
    "#Ask user to input his age\n",
    "age = input(\"Enter your age: \" )"
   ]
  },
  {
   "cell_type": "code",
   "execution_count": 4,
   "id": "ed5ea2f7-b3d2-4563-bbc2-0f1a471ebd3e",
   "metadata": {},
   "outputs": [
    {
     "name": "stdout",
     "output_type": "stream",
     "text": [
      "Name:  Pradeep\n",
      "Age:  33\n"
     ]
    }
   ],
   "source": [
    "#print the name and age of the user\n",
    "print(\"Name: \",name)\n",
    "print(\"Age: \",age)"
   ]
  },
  {
   "cell_type": "code",
   "execution_count": null,
   "id": "d72944a2-ee65-450d-9dda-818e8d554b25",
   "metadata": {},
   "outputs": [],
   "source": []
  }
 ],
 "metadata": {
  "kernelspec": {
   "display_name": "Python 3 (ipykernel)",
   "language": "python",
   "name": "python3"
  },
  "language_info": {
   "codemirror_mode": {
    "name": "ipython",
    "version": 3
   },
   "file_extension": ".py",
   "mimetype": "text/x-python",
   "name": "python",
   "nbconvert_exporter": "python",
   "pygments_lexer": "ipython3",
   "version": "3.12.5"
  }
 },
 "nbformat": 4,
 "nbformat_minor": 5
}
