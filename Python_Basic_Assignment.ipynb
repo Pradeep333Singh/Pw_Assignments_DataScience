{
 "cells": [
  {
   "cell_type": "code",
   "execution_count": 1,
   "id": "ede30180-9f51-4c81-8128-1b038f67c2de",
   "metadata": {},
   "outputs": [],
   "source": [
    "#Theoretical Questions"
   ]
  },
  {
   "cell_type": "code",
   "execution_count": 2,
   "id": "73fa995f-8ca6-4770-9fc8-81d48476b580",
   "metadata": {},
   "outputs": [],
   "source": [
    "#1.  What is Python, and why is it popular \n",
    "\"\"\"Python is a high-level, interpreted programming language that is easy to read and write.\n",
    "It uses simple English-like syntax, which makes it beginner-friendly.\n",
    "\n",
    "Reasons for Popularity:\n",
    "a. Easy to learn\n",
    "b. cross platform\n",
    "c. Large community support\n",
    "d. Rich libraries\"\"\""
   ]
  },
  {
   "cell_type": "code",
   "execution_count": null,
   "id": "746c0da7-a3e0-4858-8f8d-ecb4a92d441c",
   "metadata": {},
   "outputs": [],
   "source": [
    "#2. What is an interpreter in Python?\n",
    "\"\"\"An interpreter is a program that reads and executes Python code line by line.\n",
    "Unlike compiled languages (like C++), Python does not need to be compiled before running.\"\"\""
   ]
  },
  {
   "cell_type": "code",
   "execution_count": 5,
   "id": "e08ccad0-89a3-4cbe-b4df-804797f0a61d",
   "metadata": {},
   "outputs": [],
   "source": [
    "#3. What are pre-defined keywords in Python?\n",
    "\"\"\"Keywords are reserved words in Python that have special meanings.\n",
    "They cannot be used as variable names.\n",
    "Example: if, else, while, for, True, False, class, import etc\"\"\""
   ]
  },
  {
   "cell_type": "code",
   "execution_count": null,
   "id": "93c16046-0631-4eb8-989a-3744d56e9017",
   "metadata": {},
   "outputs": [],
   "source": [
    "#4. Can keywords be used as variable names?\n",
    "\"\"\"No, keywords cannot be used as variable names\"\"\""
   ]
  },
  {
   "cell_type": "code",
   "execution_count": null,
   "id": "4e24a061-be82-4a27-b0e8-04f568c6fc05",
   "metadata": {},
   "outputs": [],
   "source": [
    "#5. What is mutability in Python?\n",
    "\"\"\"Mutability means whether a data type can be changed after it is created.\n",
    "Mutable objects can be changed. example: List\n",
    "Immutable objects cannot be changed once created. Example: Tuple\"\"\""
   ]
  },
  {
   "cell_type": "code",
   "execution_count": null,
   "id": "ba938538-884d-4d60-8cb4-3d0c318181c1",
   "metadata": {},
   "outputs": [],
   "source": [
    "#6. Why are lists mutable, but tuples are immutable?\n",
    "\"\"\"Lists are designed to store data that might change (e.g., student marks, shopping items).\n",
    "Hence, they are mutable.\n",
    "\n",
    "Tuples are used to store fixed data (e.g., coordinates, constants).\n",
    "Hence, they are immutable.\"\"\""
   ]
  },
  {
   "cell_type": "code",
   "execution_count": null,
   "id": "ed18c82b-b5e0-437f-b0fb-de43eb620abd",
   "metadata": {},
   "outputs": [],
   "source": [
    "list1 = [1, 2, 3]\n",
    "list1.append(4)\n",
    "print(list1)\n",
    "tup = (1, 2, 3)\n",
    "tup[0] = 10"
   ]
  },
  {
   "cell_type": "code",
   "execution_count": null,
   "id": "b17f5b4c-6913-4940-9359-b69300573866",
   "metadata": {},
   "outputs": [],
   "source": [
    "#7. What is the difference between “==” and “is” operators in Python?\n",
    "\"\"\"       == operator checks if values are equal\n",
    "         is operator checks is two variables point to the same memory location\n",
    "         \"\"\""
   ]
  },
  {
   "cell_type": "code",
   "execution_count": null,
   "id": "7fd78433-6318-48bd-bcba-43d6b6ebc8a9",
   "metadata": {},
   "outputs": [],
   "source": [
    " a = [1,2]\n",
    " b = [1,2]\n",
    " print (a==b)\n",
    " print(a is b)"
   ]
  },
  {
   "cell_type": "code",
   "execution_count": null,
   "id": "38e9bc8b-1496-4615-bb7c-fbe54483b100",
   "metadata": {},
   "outputs": [],
   "source": [
    "#8. What are logical operators in Python?\n",
    "\"\"\"Logical operators are used to combine conditions:\n",
    "and: True if both conditions are true.\n",
    "or: True if at least one condition is true.\n",
    "not: Reverses the result.\"\"\""
   ]
  },
  {
   "cell_type": "code",
   "execution_count": null,
   "id": "d44146aa-ecab-4d8a-8229-34bae5f216db",
   "metadata": {},
   "outputs": [],
   "source": [
    "x = 5\n",
    "print(x > 3 and x < 10)   # True\n",
    "print(x > 3 or x > 10)    # True\n",
    "print(not(x > 3)) "
   ]
  },
  {
   "cell_type": "code",
   "execution_count": null,
   "id": "8455b3d1-4aa9-45d0-88a4-d0d5e26165be",
   "metadata": {},
   "outputs": [],
   "source": [
    "#9. What is type casting in Python?\n",
    "\"\"\"Type casting means converting one data type into another.\"\"\""
   ]
  },
  {
   "cell_type": "code",
   "execution_count": null,
   "id": "64712f35-9c7a-4a27-b164-0f91277270a2",
   "metadata": {},
   "outputs": [],
   "source": [
    "a = \"10\"\n",
    "b = int(a)  \n",
    "print(type(b))"
   ]
  },
  {
   "cell_type": "code",
   "execution_count": null,
   "id": "a7d9b860-469f-4a13-9086-607a02e56be5",
   "metadata": {},
   "outputs": [],
   "source": [
    "#10. What is the difference between implicit and explicit type casting?\n",
    "\"\"\" Implicit casting (Type conversion): Done automatically by Python.\n",
    "    Explicit casting (Type casting): Done manually by the programmer. \"\"\""
   ]
  },
  {
   "cell_type": "code",
   "execution_count": null,
   "id": "a9f2c8d3-4890-4574-a5c0-c7cb8fde6429",
   "metadata": {},
   "outputs": [],
   "source": [
    "#W11. hat is the purpose of conditional statements in Python?\n",
    "\"\"\"Conditional statements allow a program to make decisions based on conditions.\n",
    "They control the flow of execution.\"\"\""
   ]
  },
  {
   "cell_type": "code",
   "execution_count": null,
   "id": "0711791e-9247-4bd9-919b-51ae0a1409dd",
   "metadata": {},
   "outputs": [],
   "source": [
    "age = 18\n",
    "if age >= 18:\n",
    "    print(\"You can vote\")\n",
    "else:\n",
    "    print(\"Not eligible\")"
   ]
  },
  {
   "cell_type": "code",
   "execution_count": null,
   "id": "602889d4-cfd8-4871-9fb4-e2b615938891",
   "metadata": {},
   "outputs": [],
   "source": [
    "#12. How does the elif statement work?\n",
    "\"\"\"elif means else if. It is used when we have multiple conditions to check.\"\"\""
   ]
  },
  {
   "cell_type": "code",
   "execution_count": null,
   "id": "2fcd90eb-5e60-48ab-8b7f-fb58da44da5c",
   "metadata": {},
   "outputs": [],
   "source": [
    "marks = 75\n",
    "if marks >= 90:\n",
    "    print(\"Grade A\")\n",
    "elif marks >= 60:\n",
    "    print(\"Grade B\")\n",
    "else:\n",
    "    print(\"Grade C\")"
   ]
  },
  {
   "cell_type": "code",
   "execution_count": null,
   "id": "c98f4355-05db-4899-8e56-c483cdc8f618",
   "metadata": {},
   "outputs": [],
   "source": [
    "#13. What is the difference between for and while loops?\n",
    "\"\"\" for loop: Used when we know the number of iterations.\n",
    "    while loop: Used when we don’t know how many times we need to repeat.\"\"\""
   ]
  },
  {
   "cell_type": "code",
   "execution_count": null,
   "id": "1ff86374-50b9-4043-8a87-1cd2b82119ff",
   "metadata": {},
   "outputs": [],
   "source": [
    "#14. Describe a scenario where a while loop is more suitable than a for loop.\n",
    "\"\"\"A while loop is better when the number of repetitions is unknown and depends on a condition.\"\"\""
   ]
  },
  {
   "cell_type": "code",
   "execution_count": null,
   "id": "db2972ad-7d46-4c09-9fdb-eeb5c9869124",
   "metadata": {},
   "outputs": [],
   "source": [
    "password = \"\"\n",
    "while password != \"1234\":\n",
    "    password = input(\"Enter password: \")\n",
    "print(\"Access granted\")"
   ]
  },
  {
   "cell_type": "code",
   "execution_count": null,
   "id": "814a1915-d305-4a8c-ad7c-b06f73575eae",
   "metadata": {},
   "outputs": [],
   "source": []
  },
  {
   "cell_type": "code",
   "execution_count": null,
   "id": "4a219da1-f77e-4b4d-8024-395c995dc213",
   "metadata": {},
   "outputs": [],
   "source": []
  },
  {
   "cell_type": "code",
   "execution_count": 2,
   "id": "5b4b8928-3161-4746-81cd-f0b5b7a5fabe",
   "metadata": {},
   "outputs": [],
   "source": [
    "#Practical questions"
   ]
  },
  {
   "cell_type": "code",
   "execution_count": null,
   "id": "af05b5ce-fc0b-4d55-bf98-cf25430ed636",
   "metadata": {},
   "outputs": [],
   "source": [
    "#1. Write a Python program to print \"Hello, World!y"
   ]
  },
  {
   "cell_type": "code",
   "execution_count": null,
   "id": "5e5dea32-beb4-43f2-b48b-286daf2ec2ae",
   "metadata": {},
   "outputs": [],
   "source": [
    "print(\"Hello, World!\")"
   ]
  },
  {
   "cell_type": "code",
   "execution_count": null,
   "id": "e3542ba0-a673-4405-a33b-fd082b312cc3",
   "metadata": {},
   "outputs": [],
   "source": []
  },
  {
   "cell_type": "code",
   "execution_count": 3,
   "id": "25ce3c7c-ea2c-4852-86fb-e946d02573f3",
   "metadata": {},
   "outputs": [],
   "source": [
    "#2. Write a Python program that displays your name and age."
   ]
  },
  {
   "cell_type": "code",
   "execution_count": null,
   "id": "01ca230d-2b98-44a3-bde1-4fbb2b278ad0",
   "metadata": {},
   "outputs": [],
   "source": [
    "name = input(\"Enter your name: \" )    #Ask user to input his name\n",
    "age = input(\"Enter your age: \" )      #Ask user to input his age\n",
    "print(\"Name: \",name)                  #print the name and age of the user\n",
    "print(\"Age: \",age)"
   ]
  },
  {
   "cell_type": "code",
   "execution_count": null,
   "id": "dc114a8b-e91e-4b86-bf41-49fe8afdcbb9",
   "metadata": {},
   "outputs": [],
   "source": []
  },
  {
   "cell_type": "code",
   "execution_count": 4,
   "id": "caaa6f65-4852-4806-bb31-6b1da4135ae0",
   "metadata": {},
   "outputs": [],
   "source": [
    "#3. Write code to print all the pre-defined keywords in Python using the keyword library."
   ]
  },
  {
   "cell_type": "code",
   "execution_count": null,
   "id": "a319d8a9-ea5e-4592-a460-4d1178d1f04f",
   "metadata": {},
   "outputs": [],
   "source": [
    "import keyword\n",
    "print(keyword.kwlist)"
   ]
  },
  {
   "cell_type": "code",
   "execution_count": null,
   "id": "f3bcbb5b-5838-4adc-b6f0-72aee3733233",
   "metadata": {},
   "outputs": [],
   "source": []
  },
  {
   "cell_type": "code",
   "execution_count": 5,
   "id": "23e58d36-f4a2-4b85-82f3-f66de20fdd6c",
   "metadata": {},
   "outputs": [],
   "source": [
    "#4. Write a program that checks if a given word is a Python keyword."
   ]
  },
  {
   "cell_type": "code",
   "execution_count": 6,
   "id": "9c049ac1-640e-4958-b80c-0a15e5f45b49",
   "metadata": {},
   "outputs": [
    {
     "name": "stdin",
     "output_type": "stream",
     "text": [
      "Enter a word:  hello\n"
     ]
    },
    {
     "name": "stdout",
     "output_type": "stream",
     "text": [
      "hello is not a keyword.\n"
     ]
    }
   ],
   "source": [
    "import keyword\n",
    "word = input(\"Enter a word: \")     #get the user input\n",
    "if keyword.iskeyword(word):        #conditional statement to check\n",
    "    print(f\"{word} is a keyword.\")\n",
    "else:\n",
    "    print(f\"{word} is not a keyword.\")"
   ]
  },
  {
   "cell_type": "code",
   "execution_count": null,
   "id": "9f7dc26a-4d35-4c2e-8613-39b6ad823f2a",
   "metadata": {},
   "outputs": [],
   "source": []
  },
  {
   "cell_type": "code",
   "execution_count": null,
   "id": "fe5c574a-7023-431a-80db-ad444b7ccba6",
   "metadata": {},
   "outputs": [],
   "source": [
    "#5. Create a list and tuple in Python, and demonstrate how attempting to change an element works differently for each"
   ]
  },
  {
   "cell_type": "code",
   "execution_count": null,
   "id": "903cde08-8eb1-47fb-b4d6-e65d2d6afb61",
   "metadata": {},
   "outputs": [],
   "source": [
    "list1 = [\"Name\", \"Age\", \"Qualification\"]      #declare a list and a tuple\n",
    "tuple1 = (\"Name\", \"Age\", \"Qualification\")\n",
    "list1.append(\"Nationality\")\n",
    "print(list1)"
   ]
  },
  {
   "cell_type": "code",
   "execution_count": null,
   "id": "56398f34-eb36-4119-9312-03960402cb3e",
   "metadata": {},
   "outputs": [],
   "source": [
    "tuple1.append(\"Nationality\")\n",
    "print(tuple1)"
   ]
  },
  {
   "cell_type": "code",
   "execution_count": null,
   "id": "8011648f-1f12-429a-b657-834b8cc917d7",
   "metadata": {},
   "outputs": [],
   "source": [
    "list1.insert(2,\"Gender\")\n",
    "print(list1)"
   ]
  },
  {
   "cell_type": "code",
   "execution_count": null,
   "id": "7ed6f329-c52d-4988-933b-2f779de3bd70",
   "metadata": {},
   "outputs": [],
   "source": [
    "tuple1.insert(2,\"Gender\")\n",
    "print(tuple1)\n",
    "\"\"\"we cannot directly add element in tuple, but we can create a new tuple\n",
    "and combine old tuple with new element.\"\"\""
   ]
  },
  {
   "cell_type": "code",
   "execution_count": null,
   "id": "25c475e5-1d4a-44c1-aad5-f1ccb59fa91a",
   "metadata": {},
   "outputs": [],
   "source": []
  },
  {
   "cell_type": "code",
   "execution_count": 7,
   "id": "9232be70-69da-4eae-9262-a63ded232197",
   "metadata": {},
   "outputs": [],
   "source": [
    "#6. Write a function to demonstrate the behavior of mutable and immutable arguments."
   ]
  },
  {
   "cell_type": "code",
   "execution_count": null,
   "id": "9bbc7172-27cb-43a0-9a24-4b41f8d71d6e",
   "metadata": {},
   "outputs": [],
   "source": [
    "list1 = [\"A\",1,\"B\",2,\"C\",3]    #create a list\n",
    "tuple1 = (\"A\",1,\"B\",2,\"C\",3)   #create a tuple\n",
    "list1.append(\"D\")              #add element in a list using append\n",
    "print(list1)\n",
    "tuple1.append(\"D\")             #AttributeError: 'tuple' object has no attribute 'append'\n",
    "print(tuple1)"
   ]
  },
  {
   "cell_type": "code",
   "execution_count": null,
   "id": "06a58728-5579-4db2-b2b7-23964f8b4cab",
   "metadata": {},
   "outputs": [],
   "source": []
  },
  {
   "cell_type": "code",
   "execution_count": null,
   "id": "4590f86b-d6d9-4a14-91b0-3dedfaa70d77",
   "metadata": {},
   "outputs": [],
   "source": [
    "#7. Write a program that performs basic arithmetic operations on two user-input numbers."
   ]
  },
  {
   "cell_type": "code",
   "execution_count": null,
   "id": "cc80292e-9874-4b00-8304-0cf72a1c7db7",
   "metadata": {},
   "outputs": [],
   "source": [
    "num1 = float(input(\"Enter First number: \"))  #Take two inputs from the user\n",
    "num2 = float(input(\"Enter second number: \"))\n",
    "\n",
    "print(\"Sum: {:.2f}\".format(num1 + num2))       #print sum, difference, product and quotient\n",
    "print(\"Difference: {:.2f}\".format(num1 - num2))\n",
    "print(\"Product: {:.2f}\".format(num1 * num2))\n",
    "print(\"Quotient: {:.2f}\".format(num1 / num2))"
   ]
  },
  {
   "cell_type": "code",
   "execution_count": null,
   "id": "84dfd690-cfb6-423c-94ab-9790f267559a",
   "metadata": {},
   "outputs": [],
   "source": []
  },
  {
   "cell_type": "code",
   "execution_count": null,
   "id": "40b1481d-7d95-4397-9e81-c598ddef0ab6",
   "metadata": {},
   "outputs": [],
   "source": [
    "#8.  Write a program to demonstrate the use of logical operators."
   ]
  },
  {
   "cell_type": "code",
   "execution_count": null,
   "id": "10b58d80-300e-4d3b-9206-9ea1349ce9a4",
   "metadata": {},
   "outputs": [],
   "source": [
    "x = 1      #declare two varibales and ititialise them 1 and 0\n",
    "y = 0\n",
    "\n",
    "print(\"X and Y:\", x and y)      #And operator\n",
    "print(\"X or Y:\", x or y)        #OR operator\n",
    "print(\"Not x:\", not x)          #NOT operator\n",
    "print(\"XOR :\", x^y)             #XOR operator"
   ]
  },
  {
   "cell_type": "code",
   "execution_count": null,
   "id": "8c5c7956-914b-4a17-914a-7e2c3d703102",
   "metadata": {},
   "outputs": [],
   "source": []
  },
  {
   "cell_type": "code",
   "execution_count": null,
   "id": "e0a640b4-f7f8-42df-83d4-74ce34e3d11d",
   "metadata": {},
   "outputs": [],
   "source": [
    "#9.  Write a Python program to convert user input from string to integer, float, and boolean types"
   ]
  },
  {
   "cell_type": "code",
   "execution_count": null,
   "id": "524f40be-a394-4324-98f0-8cc744daf8c4",
   "metadata": {},
   "outputs": [],
   "source": [
    "demo_variable = input(\"Enter a value:\")   #Take input from user\n",
    "demo_int = int(demo_variable)             #Convert the str to int\n",
    "print(demo_int)\n",
    "demo_float = float(demo_variable)         #convert int to float\n",
    "print(demo_float)\n",
    "demo_bool = bool(demo_variable)           #convert float to Bool\n",
    "print(demo_bool)"
   ]
  },
  {
   "cell_type": "code",
   "execution_count": null,
   "id": "5adf4572-6ff2-466c-964e-63ffbd961004",
   "metadata": {},
   "outputs": [],
   "source": []
  },
  {
   "cell_type": "code",
   "execution_count": null,
   "id": "e0eee91a-75bb-4fff-a8d9-188ce65791bc",
   "metadata": {},
   "outputs": [],
   "source": [
    "#10. Write code to demonstrate type casting with list elements."
   ]
  },
  {
   "cell_type": "code",
   "execution_count": null,
   "id": "26f364df-9c1f-447f-bdc3-6ec0ebeed2c4",
   "metadata": {},
   "outputs": [],
   "source": [
    "demo_list = [1,2,\"A\"]             #create a demo list\n",
    "type(demo_list[0])                #print type of 1st element in list\n",
    "type(demo_list[1])\n",
    "\n",
    "demo_list_int = [str(x) for x in demo_list[0:2]]          #change type from int to str\n",
    "print(demo_list_int)\n",
    "\n",
    "type(demo_list_int[0])           #print type after typecasting\n",
    "\n",
    "type(demo_list_int[1])"
   ]
  },
  {
   "cell_type": "code",
   "execution_count": null,
   "id": "f913a54f-875d-4c77-a8d6-32ea4be2cc3d",
   "metadata": {},
   "outputs": [],
   "source": []
  },
  {
   "cell_type": "code",
   "execution_count": 8,
   "id": "1db5bbc4-3742-4d08-9c1c-1e320e21f73d",
   "metadata": {},
   "outputs": [],
   "source": [
    "#11. Write a program that checks if a number is positive, negative, or zero."
   ]
  },
  {
   "cell_type": "code",
   "execution_count": null,
   "id": "0732d8ce-3ee0-4fa3-8227-7536666baab7",
   "metadata": {},
   "outputs": [],
   "source": [
    "num = int(input(\"Enter a number: \"))\n",
    "\n",
    "if (num > 0):\n",
    "    print(\"{:d} is positive\".format(num))\n",
    "elif (num < 0):\n",
    "    print(\"{:d} is negative\".format(num))\n",
    "else: print(\"{:d} is zero\".format(num))"
   ]
  },
  {
   "cell_type": "code",
   "execution_count": null,
   "id": "32974587-0b69-49a6-a24b-4ceb93418a3d",
   "metadata": {},
   "outputs": [],
   "source": []
  },
  {
   "cell_type": "code",
   "execution_count": 9,
   "id": "084d61c2-4d4f-488b-a9f0-d22374c816af",
   "metadata": {},
   "outputs": [],
   "source": [
    "#12.  Write a for loop to print numbers from 1 to n"
   ]
  },
  {
   "cell_type": "code",
   "execution_count": null,
   "id": "cb9d4b25-cba2-4276-83d5-f4ff87e76de6",
   "metadata": {},
   "outputs": [],
   "source": [
    "num = int(input(\"Enter a number: \"))\n",
    "\n",
    "i = 1\n",
    "print(\"First {:d} positive integrs are: \".format(num))\n",
    "while (i <= num):\n",
    "    print(i)\n",
    "    i += 1"
   ]
  },
  {
   "cell_type": "code",
   "execution_count": null,
   "id": "62132c8a-4260-4f2c-8ae2-68b1f5435ca3",
   "metadata": {},
   "outputs": [],
   "source": []
  },
  {
   "cell_type": "code",
   "execution_count": 10,
   "id": "20b08359-0115-4799-9105-ed4f67b2f774",
   "metadata": {},
   "outputs": [],
   "source": [
    "#13. Write a Python program to find the sum of all even numbers between 1 and 50."
   ]
  },
  {
   "cell_type": "code",
   "execution_count": null,
   "id": "b60b0918-92f4-434c-89a1-045c9f87a1d9",
   "metadata": {},
   "outputs": [],
   "source": [
    "num = int(input(\"Enter a number: \"))\n",
    "\n",
    "sum = 0\n",
    "\n",
    "i = num\n",
    "while (i > 0):\n",
    "    if (i % 2 == 0):\n",
    "        sum += i\n",
    "    i -= 1\n",
    "\n",
    "print(\"Sum of even numbers between 1 and  {:d} is {:d}\".format(num,sum))"
   ]
  },
  {
   "cell_type": "code",
   "execution_count": null,
   "id": "7f67c31a-38d9-44fc-9927-822004674d76",
   "metadata": {},
   "outputs": [],
   "source": []
  },
  {
   "cell_type": "code",
   "execution_count": null,
   "id": "4d98ce57-b4c8-44b7-834a-370fe30aadcd",
   "metadata": {},
   "outputs": [],
   "source": [
    "#14.  Write a program to reverse a string using a while loop"
   ]
  },
  {
   "cell_type": "code",
   "execution_count": null,
   "id": "0383ffab-fb7f-4e2a-8be2-e85da16c2ce5",
   "metadata": {},
   "outputs": [],
   "source": [
    "str = input(\"Enter a string: \")\n",
    "\n",
    "rev_str = \"\"\n",
    "\n",
    "i = len(str)-1\n",
    "\n",
    "while (i >=0):\n",
    "    rev_str += str[i]\n",
    "    i -= 1\n",
    "\n",
    "print(\"Reverse string :\",rev_str)"
   ]
  },
  {
   "cell_type": "code",
   "execution_count": null,
   "id": "11001b21-861a-456b-870d-da126868e2b7",
   "metadata": {},
   "outputs": [],
   "source": []
  },
  {
   "cell_type": "code",
   "execution_count": 1,
   "id": "cf3e9874-2e8b-43f1-85f1-2572e30f118b",
   "metadata": {},
   "outputs": [],
   "source": [
    "#15. Write a Python program to calculate the factorial of a number provided by the user using a while loop"
   ]
  },
  {
   "cell_type": "code",
   "execution_count": null,
   "id": "963204d5-604b-4b55-8ec3-e8532a863882",
   "metadata": {},
   "outputs": [],
   "source": [
    "num = int(input(\"Enter a number: \"))\n",
    "\n",
    "#declare variable fact and initialise its value as 1\n",
    "fact = 1\n",
    "\n",
    "#while loop for recursive operation\n",
    "while (num > 1):\n",
    "    fact *= num\n",
    "    num = num - 1\n",
    "\n",
    "#print the factorial of given number\n",
    "print(\"factorial is :\",fact)"
   ]
  },
  {
   "cell_type": "code",
   "execution_count": null,
   "id": "c31f1fef-b601-4c64-a00e-9343af2e577f",
   "metadata": {},
   "outputs": [],
   "source": []
  }
 ],
 "metadata": {
  "kernelspec": {
   "display_name": "Python 3 (ipykernel)",
   "language": "python",
   "name": "python3"
  },
  "language_info": {
   "codemirror_mode": {
    "name": "ipython",
    "version": 3
   },
   "file_extension": ".py",
   "mimetype": "text/x-python",
   "name": "python",
   "nbconvert_exporter": "python",
   "pygments_lexer": "ipython3",
   "version": "3.12.5"
  }
 },
 "nbformat": 4,
 "nbformat_minor": 5
}
