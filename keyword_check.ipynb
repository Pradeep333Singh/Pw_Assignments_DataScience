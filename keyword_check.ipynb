{
 "cells": [
  {
   "cell_type": "code",
   "execution_count": 2,
   "id": "f63bbc0a-3465-4a64-b95d-6ece3c2c414f",
   "metadata": {},
   "outputs": [
    {
     "name": "stdin",
     "output_type": "stream",
     "text": [
      "Enter a word False\n"
     ]
    },
    {
     "name": "stdout",
     "output_type": "stream",
     "text": [
      "False is a keyword.\n"
     ]
    }
   ],
   "source": [
    "#Program to check if given word is a Python keyword"
   ]
  },
  {
   "cell_type": "code",
   "execution_count": null,
   "id": "e4c68591-0a78-4a6c-8755-4836d13d1945",
   "metadata": {},
   "outputs": [],
   "source": [
    "#import the library Keyword\n",
    "import keyword"
   ]
  },
  {
   "cell_type": "code",
   "execution_count": null,
   "id": "add204d2-cd90-42b6-86ae-caf65333b8c4",
   "metadata": {},
   "outputs": [],
   "source": [
    "#get the user input\n",
    "word = input(\"Enter a word: \")"
   ]
  },
  {
   "cell_type": "code",
   "execution_count": null,
   "id": "855f3ec1-9f6d-4302-81d8-36142adda2f2",
   "metadata": {},
   "outputs": [],
   "source": [
    "#conditional statement to check\n",
    "if keyword.iskeyword(word):\n",
    "    print(f\"{word} is a keyword.\")\n",
    "else:\n",
    "    print(f\"{word} is not a keyword.\")"
   ]
  }
 ],
 "metadata": {
  "kernelspec": {
   "display_name": "Python 3 (ipykernel)",
   "language": "python",
   "name": "python3"
  },
  "language_info": {
   "codemirror_mode": {
    "name": "ipython",
    "version": 3
   },
   "file_extension": ".py",
   "mimetype": "text/x-python",
   "name": "python",
   "nbconvert_exporter": "python",
   "pygments_lexer": "ipython3",
   "version": "3.12.5"
  }
 },
 "nbformat": 4,
 "nbformat_minor": 5
}
