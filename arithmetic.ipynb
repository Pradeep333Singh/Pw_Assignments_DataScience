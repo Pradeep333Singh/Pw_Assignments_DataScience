{
 "cells": [
  {
   "cell_type": "code",
   "execution_count": 1,
   "id": "fc81f3b7-d2ce-4091-961d-c10ca53a4dd2",
   "metadata": {},
   "outputs": [],
   "source": [
    "#program to perform Arithmetic operations"
   ]
  },
  {
   "cell_type": "code",
   "execution_count": 2,
   "id": "8dc12518-20e6-42ea-80b3-8926de3c477f",
   "metadata": {},
   "outputs": [
    {
     "name": "stdin",
     "output_type": "stream",
     "text": [
      "Enter First number:  4\n",
      "Enter second number:  -4\n"
     ]
    }
   ],
   "source": [
    "#Take two inputs from the user\n",
    "num1 = float(input(\"Enter First number: \"))\n",
    "num2 = float(input(\"Enter second number: \"))"
   ]
  },
  {
   "cell_type": "code",
   "execution_count": 3,
   "id": "a9042e73-a666-4df9-9448-1d1e306b1a27",
   "metadata": {},
   "outputs": [
    {
     "name": "stdout",
     "output_type": "stream",
     "text": [
      "Sum: 0.00\n",
      "Difference: 8.00\n",
      "Product: -16.00\n",
      "Quotient: -1.00\n"
     ]
    }
   ],
   "source": [
    "#print sum, difference, product and quotient\n",
    "print(\"Sum: {:.2f}\".format(num1 + num2))\n",
    "print(\"Difference: {:.2f}\".format(num1 - num2))\n",
    "print(\"Product: {:.2f}\".format(num1 * num2))\n",
    "print(\"Quotient: {:.2f}\".format(num1 / num2))"
   ]
  },
  {
   "cell_type": "code",
   "execution_count": null,
   "id": "e67e6647-c130-484d-ab1f-3b1da45e9301",
   "metadata": {},
   "outputs": [],
   "source": []
  }
 ],
 "metadata": {
  "kernelspec": {
   "display_name": "Python 3 (ipykernel)",
   "language": "python",
   "name": "python3"
  },
  "language_info": {
   "codemirror_mode": {
    "name": "ipython",
    "version": 3
   },
   "file_extension": ".py",
   "mimetype": "text/x-python",
   "name": "python",
   "nbconvert_exporter": "python",
   "pygments_lexer": "ipython3",
   "version": "3.12.5"
  }
 },
 "nbformat": 4,
 "nbformat_minor": 5
}
